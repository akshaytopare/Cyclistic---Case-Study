{
 "cells": [
  {
   "cell_type": "markdown",
   "id": "f9a12a0c",
   "metadata": {},
   "source": [
    "**Introduction**\n",
    "\n",
    "Welcome to the Cyclistic bike-share analysis case study! In this case study, we will perform many real-world tasks of a data analyst. we will work for a fictional company, Cyclistic, and meet different characters and team members. In order to answer the key business questions, we will follow the steps of the data analysis process: ask, prepare, process, analyze, share, and act. Along the way, the Case Study Roadmap tables — including guiding questions and key tasks will help you stay on the right path."
   ]
  },
  {
   "cell_type": "markdown",
   "id": "8ed82c62",
   "metadata": {},
   "source": [
    "**Scenario**\n",
    "\n",
    "In this case I am data analyst working in the marketing analyst team at Cyclistic, a bike-share company in Chicago. The director of marketing believes the company’s future success depends on maximizing the number of annual memberships. Therefore, my team wants to understand how casual riders and annual members use Cyclistic bikes differently. From these insights, my team will design a new marketing strategy to convert casual riders into annual members. But first, Cyclistic executives must approve my recommendations, so they must be backed up with compelling data insights and professional data visualizations."
   ]
  },
  {
   "cell_type": "markdown",
   "id": "4dca081a",
   "metadata": {},
   "source": [
    "**Stakeholders**\n",
    "\n",
    "**Primary**\n",
    "1. Lily Moreno,director of marketing\n",
    "2. Cyclistic executive team\n",
    "**Secondary**\n",
    "1. Cyclistic marketing analytics team"
   ]
  },
  {
   "cell_type": "markdown",
   "id": "0ef3b749",
   "metadata": {},
   "source": [
    "**Business Task**\n",
    "\n",
    "Design marketing strategies aimed at converting casual riders into annual members by analyzing four quarters of Cyclistic trips data."
   ]
  },
  {
   "cell_type": "markdown",
   "id": "c096926f",
   "metadata": {},
   "source": [
    "**Data Source**\n",
    "\n",
    "For the purposes of this case study,the datasets are appropriate and will enable you to answer the business questions. The data has been made available by Motivate International Inc. under this <a href=\"https://www.divvybikes.com/data-license-agreement\" target=\"_blank\">this link</a>. This is public data that you can use to explore how different customer types are using Cyclistic bikes. But note that data-privacy issues prohibit you from using riders’ personally identifiable information. This means that you won’t be able to connect pass purchases to credit card numbers to determine if casual riders live in the Cyclistic service area or if they have purchased multiple single passes."
   ]
  },
  {
   "cell_type": "markdown",
   "id": "e18560df",
   "metadata": {},
   "source": [
    "**Load Required Libraries**"
   ]
  },
  {
   "cell_type": "code",
   "execution_count": 1,
   "id": "95bc5ffc",
   "metadata": {},
   "outputs": [],
   "source": [
    "import pandas as pd\n",
    "import numpy as np\n",
    "import matplotlib.pyplot as plt\n",
    "import seaborn as sns\n",
    "%matplotlib inline\n",
    "import os\n"
   ]
  },
  {
   "cell_type": "markdown",
   "id": "20e1ca83",
   "metadata": {},
   "source": [
    "**STEP 1: COLLECT DATA**\n",
    "\n",
    "Upload Divvy datasets (csv files) here"
   ]
  },
  {
   "cell_type": "code",
   "execution_count": 2,
   "id": "9a9c95d9",
   "metadata": {},
   "outputs": [
    {
     "data": {
      "text/plain": [
       "'C:\\\\Users\\\\AkshayT\\\\Desktop\\\\Google\\\\cyclistic_trip_data_analysis_python'"
      ]
     },
     "execution_count": 2,
     "metadata": {},
     "output_type": "execute_result"
    }
   ],
   "source": [
    "os.getcwd()"
   ]
  },
  {
   "cell_type": "code",
   "execution_count": 3,
   "id": "74a74827",
   "metadata": {},
   "outputs": [],
   "source": [
    "os.chdir(\"C:\\\\Users\\\\AkshayT\\\\Desktop\\\\Google\\\\cyclistic_trip_data_analysis_python\\\\cyclistic_trip_data_V01\")"
   ]
  },
  {
   "cell_type": "code",
   "execution_count": 4,
   "id": "207113f7",
   "metadata": {},
   "outputs": [],
   "source": [
    "q2_2019 = pd.read_csv(\"Divvy_Trips_2019_Q2.csv\")\n",
    "q3_2019 = pd.read_csv(\"Divvy_Trips_2019_Q3.csv\")\n",
    "q4_2019 = pd.read_csv(\"Divvy_Trips_2019_Q4.csv\")\n",
    "q1_2020 = pd.read_csv(\"Divvy_Trips_2020_Q1.csv\")"
   ]
  },
  {
   "cell_type": "markdown",
   "id": "88743dbe",
   "metadata": {},
   "source": [
    "Let's Check The data"
   ]
  },
  {
   "cell_type": "code",
   "execution_count": 5,
   "id": "dda40e14",
   "metadata": {},
   "outputs": [
    {
     "data": {
      "text/html": [
       "<div>\n",
       "<style scoped>\n",
       "    .dataframe tbody tr th:only-of-type {\n",
       "        vertical-align: middle;\n",
       "    }\n",
       "\n",
       "    .dataframe tbody tr th {\n",
       "        vertical-align: top;\n",
       "    }\n",
       "\n",
       "    .dataframe thead th {\n",
       "        text-align: right;\n",
       "    }\n",
       "</style>\n",
       "<table border=\"1\" class=\"dataframe\">\n",
       "  <thead>\n",
       "    <tr style=\"text-align: right;\">\n",
       "      <th></th>\n",
       "      <th>01 - Rental Details Rental ID</th>\n",
       "      <th>01 - Rental Details Local Start Time</th>\n",
       "      <th>01 - Rental Details Local End Time</th>\n",
       "      <th>01 - Rental Details Bike ID</th>\n",
       "      <th>01 - Rental Details Duration In Seconds Uncapped</th>\n",
       "      <th>03 - Rental Start Station ID</th>\n",
       "      <th>03 - Rental Start Station Name</th>\n",
       "      <th>02 - Rental End Station ID</th>\n",
       "      <th>02 - Rental End Station Name</th>\n",
       "      <th>User Type</th>\n",
       "      <th>Member Gender</th>\n",
       "      <th>05 - Member Details Member Birthday Year</th>\n",
       "    </tr>\n",
       "  </thead>\n",
       "  <tbody>\n",
       "    <tr>\n",
       "      <th>0</th>\n",
       "      <td>22178529</td>\n",
       "      <td>2019-04-01 00:02:22</td>\n",
       "      <td>2019-04-01 00:09:48</td>\n",
       "      <td>6251</td>\n",
       "      <td>446.0</td>\n",
       "      <td>81</td>\n",
       "      <td>Daley Center Plaza</td>\n",
       "      <td>56</td>\n",
       "      <td>Desplaines St &amp; Kinzie St</td>\n",
       "      <td>Subscriber</td>\n",
       "      <td>Male</td>\n",
       "      <td>1975.0</td>\n",
       "    </tr>\n",
       "    <tr>\n",
       "      <th>1</th>\n",
       "      <td>22178530</td>\n",
       "      <td>2019-04-01 00:03:02</td>\n",
       "      <td>2019-04-01 00:20:30</td>\n",
       "      <td>6226</td>\n",
       "      <td>1,048.0</td>\n",
       "      <td>317</td>\n",
       "      <td>Wood St &amp; Taylor St</td>\n",
       "      <td>59</td>\n",
       "      <td>Wabash Ave &amp; Roosevelt Rd</td>\n",
       "      <td>Subscriber</td>\n",
       "      <td>Female</td>\n",
       "      <td>1984.0</td>\n",
       "    </tr>\n",
       "    <tr>\n",
       "      <th>2</th>\n",
       "      <td>22178531</td>\n",
       "      <td>2019-04-01 00:11:07</td>\n",
       "      <td>2019-04-01 00:15:19</td>\n",
       "      <td>5649</td>\n",
       "      <td>252.0</td>\n",
       "      <td>283</td>\n",
       "      <td>LaSalle St &amp; Jackson Blvd</td>\n",
       "      <td>174</td>\n",
       "      <td>Canal St &amp; Madison St</td>\n",
       "      <td>Subscriber</td>\n",
       "      <td>Male</td>\n",
       "      <td>1990.0</td>\n",
       "    </tr>\n",
       "    <tr>\n",
       "      <th>3</th>\n",
       "      <td>22178532</td>\n",
       "      <td>2019-04-01 00:13:01</td>\n",
       "      <td>2019-04-01 00:18:58</td>\n",
       "      <td>4151</td>\n",
       "      <td>357.0</td>\n",
       "      <td>26</td>\n",
       "      <td>McClurg Ct &amp; Illinois St</td>\n",
       "      <td>133</td>\n",
       "      <td>Kingsbury St &amp; Kinzie St</td>\n",
       "      <td>Subscriber</td>\n",
       "      <td>Male</td>\n",
       "      <td>1993.0</td>\n",
       "    </tr>\n",
       "    <tr>\n",
       "      <th>4</th>\n",
       "      <td>22178533</td>\n",
       "      <td>2019-04-01 00:19:26</td>\n",
       "      <td>2019-04-01 00:36:13</td>\n",
       "      <td>3270</td>\n",
       "      <td>1,007.0</td>\n",
       "      <td>202</td>\n",
       "      <td>Halsted St &amp; 18th St</td>\n",
       "      <td>129</td>\n",
       "      <td>Blue Island Ave &amp; 18th St</td>\n",
       "      <td>Subscriber</td>\n",
       "      <td>Male</td>\n",
       "      <td>1992.0</td>\n",
       "    </tr>\n",
       "  </tbody>\n",
       "</table>\n",
       "</div>"
      ],
      "text/plain": [
       "   01 - Rental Details Rental ID 01 - Rental Details Local Start Time  \\\n",
       "0                       22178529                  2019-04-01 00:02:22   \n",
       "1                       22178530                  2019-04-01 00:03:02   \n",
       "2                       22178531                  2019-04-01 00:11:07   \n",
       "3                       22178532                  2019-04-01 00:13:01   \n",
       "4                       22178533                  2019-04-01 00:19:26   \n",
       "\n",
       "  01 - Rental Details Local End Time  01 - Rental Details Bike ID  \\\n",
       "0                2019-04-01 00:09:48                         6251   \n",
       "1                2019-04-01 00:20:30                         6226   \n",
       "2                2019-04-01 00:15:19                         5649   \n",
       "3                2019-04-01 00:18:58                         4151   \n",
       "4                2019-04-01 00:36:13                         3270   \n",
       "\n",
       "  01 - Rental Details Duration In Seconds Uncapped  \\\n",
       "0                                            446.0   \n",
       "1                                          1,048.0   \n",
       "2                                            252.0   \n",
       "3                                            357.0   \n",
       "4                                          1,007.0   \n",
       "\n",
       "   03 - Rental Start Station ID 03 - Rental Start Station Name  \\\n",
       "0                            81             Daley Center Plaza   \n",
       "1                           317            Wood St & Taylor St   \n",
       "2                           283      LaSalle St & Jackson Blvd   \n",
       "3                            26       McClurg Ct & Illinois St   \n",
       "4                           202           Halsted St & 18th St   \n",
       "\n",
       "   02 - Rental End Station ID 02 - Rental End Station Name   User Type  \\\n",
       "0                          56    Desplaines St & Kinzie St  Subscriber   \n",
       "1                          59    Wabash Ave & Roosevelt Rd  Subscriber   \n",
       "2                         174        Canal St & Madison St  Subscriber   \n",
       "3                         133     Kingsbury St & Kinzie St  Subscriber   \n",
       "4                         129    Blue Island Ave & 18th St  Subscriber   \n",
       "\n",
       "  Member Gender  05 - Member Details Member Birthday Year  \n",
       "0          Male                                    1975.0  \n",
       "1        Female                                    1984.0  \n",
       "2          Male                                    1990.0  \n",
       "3          Male                                    1993.0  \n",
       "4          Male                                    1992.0  "
      ]
     },
     "execution_count": 5,
     "metadata": {},
     "output_type": "execute_result"
    }
   ],
   "source": [
    "q2_2019.head()"
   ]
  },
  {
   "cell_type": "code",
   "execution_count": 6,
   "id": "66c2b6cf",
   "metadata": {},
   "outputs": [
    {
     "data": {
      "text/html": [
       "<div>\n",
       "<style scoped>\n",
       "    .dataframe tbody tr th:only-of-type {\n",
       "        vertical-align: middle;\n",
       "    }\n",
       "\n",
       "    .dataframe tbody tr th {\n",
       "        vertical-align: top;\n",
       "    }\n",
       "\n",
       "    .dataframe thead th {\n",
       "        text-align: right;\n",
       "    }\n",
       "</style>\n",
       "<table border=\"1\" class=\"dataframe\">\n",
       "  <thead>\n",
       "    <tr style=\"text-align: right;\">\n",
       "      <th></th>\n",
       "      <th>trip_id</th>\n",
       "      <th>start_time</th>\n",
       "      <th>end_time</th>\n",
       "      <th>bikeid</th>\n",
       "      <th>tripduration</th>\n",
       "      <th>from_station_id</th>\n",
       "      <th>from_station_name</th>\n",
       "      <th>to_station_id</th>\n",
       "      <th>to_station_name</th>\n",
       "      <th>usertype</th>\n",
       "      <th>gender</th>\n",
       "      <th>birthyear</th>\n",
       "    </tr>\n",
       "  </thead>\n",
       "  <tbody>\n",
       "    <tr>\n",
       "      <th>0</th>\n",
       "      <td>23479388</td>\n",
       "      <td>2019-07-01 00:00:27</td>\n",
       "      <td>2019-07-01 00:20:41</td>\n",
       "      <td>3591</td>\n",
       "      <td>1,214.0</td>\n",
       "      <td>117</td>\n",
       "      <td>Wilton Ave &amp; Belmont Ave</td>\n",
       "      <td>497</td>\n",
       "      <td>Kimball Ave &amp; Belmont Ave</td>\n",
       "      <td>Subscriber</td>\n",
       "      <td>Male</td>\n",
       "      <td>1992.0</td>\n",
       "    </tr>\n",
       "    <tr>\n",
       "      <th>1</th>\n",
       "      <td>23479389</td>\n",
       "      <td>2019-07-01 00:01:16</td>\n",
       "      <td>2019-07-01 00:18:44</td>\n",
       "      <td>5353</td>\n",
       "      <td>1,048.0</td>\n",
       "      <td>381</td>\n",
       "      <td>Western Ave &amp; Monroe St</td>\n",
       "      <td>203</td>\n",
       "      <td>Western Ave &amp; 21st St</td>\n",
       "      <td>Customer</td>\n",
       "      <td>NaN</td>\n",
       "      <td>NaN</td>\n",
       "    </tr>\n",
       "    <tr>\n",
       "      <th>2</th>\n",
       "      <td>23479390</td>\n",
       "      <td>2019-07-01 00:01:48</td>\n",
       "      <td>2019-07-01 00:27:42</td>\n",
       "      <td>6180</td>\n",
       "      <td>1,554.0</td>\n",
       "      <td>313</td>\n",
       "      <td>Lakeview Ave &amp; Fullerton Pkwy</td>\n",
       "      <td>144</td>\n",
       "      <td>Larrabee St &amp; Webster Ave</td>\n",
       "      <td>Customer</td>\n",
       "      <td>NaN</td>\n",
       "      <td>NaN</td>\n",
       "    </tr>\n",
       "    <tr>\n",
       "      <th>3</th>\n",
       "      <td>23479391</td>\n",
       "      <td>2019-07-01 00:02:07</td>\n",
       "      <td>2019-07-01 00:27:10</td>\n",
       "      <td>5540</td>\n",
       "      <td>1,503.0</td>\n",
       "      <td>313</td>\n",
       "      <td>Lakeview Ave &amp; Fullerton Pkwy</td>\n",
       "      <td>144</td>\n",
       "      <td>Larrabee St &amp; Webster Ave</td>\n",
       "      <td>Customer</td>\n",
       "      <td>NaN</td>\n",
       "      <td>NaN</td>\n",
       "    </tr>\n",
       "    <tr>\n",
       "      <th>4</th>\n",
       "      <td>23479392</td>\n",
       "      <td>2019-07-01 00:02:13</td>\n",
       "      <td>2019-07-01 00:22:26</td>\n",
       "      <td>6014</td>\n",
       "      <td>1,213.0</td>\n",
       "      <td>168</td>\n",
       "      <td>Michigan Ave &amp; 14th St</td>\n",
       "      <td>62</td>\n",
       "      <td>McCormick Place</td>\n",
       "      <td>Customer</td>\n",
       "      <td>NaN</td>\n",
       "      <td>NaN</td>\n",
       "    </tr>\n",
       "  </tbody>\n",
       "</table>\n",
       "</div>"
      ],
      "text/plain": [
       "    trip_id           start_time             end_time  bikeid tripduration  \\\n",
       "0  23479388  2019-07-01 00:00:27  2019-07-01 00:20:41    3591      1,214.0   \n",
       "1  23479389  2019-07-01 00:01:16  2019-07-01 00:18:44    5353      1,048.0   \n",
       "2  23479390  2019-07-01 00:01:48  2019-07-01 00:27:42    6180      1,554.0   \n",
       "3  23479391  2019-07-01 00:02:07  2019-07-01 00:27:10    5540      1,503.0   \n",
       "4  23479392  2019-07-01 00:02:13  2019-07-01 00:22:26    6014      1,213.0   \n",
       "\n",
       "   from_station_id              from_station_name  to_station_id  \\\n",
       "0              117       Wilton Ave & Belmont Ave            497   \n",
       "1              381        Western Ave & Monroe St            203   \n",
       "2              313  Lakeview Ave & Fullerton Pkwy            144   \n",
       "3              313  Lakeview Ave & Fullerton Pkwy            144   \n",
       "4              168         Michigan Ave & 14th St             62   \n",
       "\n",
       "             to_station_name    usertype gender  birthyear  \n",
       "0  Kimball Ave & Belmont Ave  Subscriber   Male     1992.0  \n",
       "1      Western Ave & 21st St    Customer    NaN        NaN  \n",
       "2  Larrabee St & Webster Ave    Customer    NaN        NaN  \n",
       "3  Larrabee St & Webster Ave    Customer    NaN        NaN  \n",
       "4            McCormick Place    Customer    NaN        NaN  "
      ]
     },
     "execution_count": 6,
     "metadata": {},
     "output_type": "execute_result"
    }
   ],
   "source": [
    "q3_2019.head()"
   ]
  },
  {
   "cell_type": "code",
   "execution_count": 7,
   "id": "a2101fe9",
   "metadata": {},
   "outputs": [
    {
     "data": {
      "text/html": [
       "<div>\n",
       "<style scoped>\n",
       "    .dataframe tbody tr th:only-of-type {\n",
       "        vertical-align: middle;\n",
       "    }\n",
       "\n",
       "    .dataframe tbody tr th {\n",
       "        vertical-align: top;\n",
       "    }\n",
       "\n",
       "    .dataframe thead th {\n",
       "        text-align: right;\n",
       "    }\n",
       "</style>\n",
       "<table border=\"1\" class=\"dataframe\">\n",
       "  <thead>\n",
       "    <tr style=\"text-align: right;\">\n",
       "      <th></th>\n",
       "      <th>trip_id</th>\n",
       "      <th>start_time</th>\n",
       "      <th>end_time</th>\n",
       "      <th>bikeid</th>\n",
       "      <th>tripduration</th>\n",
       "      <th>from_station_id</th>\n",
       "      <th>from_station_name</th>\n",
       "      <th>to_station_id</th>\n",
       "      <th>to_station_name</th>\n",
       "      <th>usertype</th>\n",
       "      <th>gender</th>\n",
       "      <th>birthyear</th>\n",
       "    </tr>\n",
       "  </thead>\n",
       "  <tbody>\n",
       "    <tr>\n",
       "      <th>0</th>\n",
       "      <td>25223640</td>\n",
       "      <td>2019-10-01 00:01:39</td>\n",
       "      <td>2019-10-01 00:17:20</td>\n",
       "      <td>2215</td>\n",
       "      <td>940.0</td>\n",
       "      <td>20</td>\n",
       "      <td>Sheffield Ave &amp; Kingsbury St</td>\n",
       "      <td>309</td>\n",
       "      <td>Leavitt St &amp; Armitage Ave</td>\n",
       "      <td>Subscriber</td>\n",
       "      <td>Male</td>\n",
       "      <td>1987.0</td>\n",
       "    </tr>\n",
       "    <tr>\n",
       "      <th>1</th>\n",
       "      <td>25223641</td>\n",
       "      <td>2019-10-01 00:02:16</td>\n",
       "      <td>2019-10-01 00:06:34</td>\n",
       "      <td>6328</td>\n",
       "      <td>258.0</td>\n",
       "      <td>19</td>\n",
       "      <td>Throop (Loomis) St &amp; Taylor St</td>\n",
       "      <td>241</td>\n",
       "      <td>Morgan St &amp; Polk St</td>\n",
       "      <td>Subscriber</td>\n",
       "      <td>Male</td>\n",
       "      <td>1998.0</td>\n",
       "    </tr>\n",
       "    <tr>\n",
       "      <th>2</th>\n",
       "      <td>25223642</td>\n",
       "      <td>2019-10-01 00:04:32</td>\n",
       "      <td>2019-10-01 00:18:43</td>\n",
       "      <td>3003</td>\n",
       "      <td>850.0</td>\n",
       "      <td>84</td>\n",
       "      <td>Milwaukee Ave &amp; Grand Ave</td>\n",
       "      <td>199</td>\n",
       "      <td>Wabash Ave &amp; Grand Ave</td>\n",
       "      <td>Subscriber</td>\n",
       "      <td>Female</td>\n",
       "      <td>1991.0</td>\n",
       "    </tr>\n",
       "    <tr>\n",
       "      <th>3</th>\n",
       "      <td>25223643</td>\n",
       "      <td>2019-10-01 00:04:32</td>\n",
       "      <td>2019-10-01 00:43:43</td>\n",
       "      <td>3275</td>\n",
       "      <td>2,350.0</td>\n",
       "      <td>313</td>\n",
       "      <td>Lakeview Ave &amp; Fullerton Pkwy</td>\n",
       "      <td>290</td>\n",
       "      <td>Kedzie Ave &amp; Palmer Ct</td>\n",
       "      <td>Subscriber</td>\n",
       "      <td>Male</td>\n",
       "      <td>1990.0</td>\n",
       "    </tr>\n",
       "    <tr>\n",
       "      <th>4</th>\n",
       "      <td>25223644</td>\n",
       "      <td>2019-10-01 00:04:34</td>\n",
       "      <td>2019-10-01 00:35:42</td>\n",
       "      <td>5294</td>\n",
       "      <td>1,867.0</td>\n",
       "      <td>210</td>\n",
       "      <td>Ashland Ave &amp; Division St</td>\n",
       "      <td>382</td>\n",
       "      <td>Western Ave &amp; Congress Pkwy</td>\n",
       "      <td>Subscriber</td>\n",
       "      <td>Male</td>\n",
       "      <td>1987.0</td>\n",
       "    </tr>\n",
       "  </tbody>\n",
       "</table>\n",
       "</div>"
      ],
      "text/plain": [
       "    trip_id           start_time             end_time  bikeid tripduration  \\\n",
       "0  25223640  2019-10-01 00:01:39  2019-10-01 00:17:20    2215        940.0   \n",
       "1  25223641  2019-10-01 00:02:16  2019-10-01 00:06:34    6328        258.0   \n",
       "2  25223642  2019-10-01 00:04:32  2019-10-01 00:18:43    3003        850.0   \n",
       "3  25223643  2019-10-01 00:04:32  2019-10-01 00:43:43    3275      2,350.0   \n",
       "4  25223644  2019-10-01 00:04:34  2019-10-01 00:35:42    5294      1,867.0   \n",
       "\n",
       "   from_station_id               from_station_name  to_station_id  \\\n",
       "0               20    Sheffield Ave & Kingsbury St            309   \n",
       "1               19  Throop (Loomis) St & Taylor St            241   \n",
       "2               84       Milwaukee Ave & Grand Ave            199   \n",
       "3              313   Lakeview Ave & Fullerton Pkwy            290   \n",
       "4              210       Ashland Ave & Division St            382   \n",
       "\n",
       "               to_station_name    usertype  gender  birthyear  \n",
       "0    Leavitt St & Armitage Ave  Subscriber    Male     1987.0  \n",
       "1          Morgan St & Polk St  Subscriber    Male     1998.0  \n",
       "2       Wabash Ave & Grand Ave  Subscriber  Female     1991.0  \n",
       "3       Kedzie Ave & Palmer Ct  Subscriber    Male     1990.0  \n",
       "4  Western Ave & Congress Pkwy  Subscriber    Male     1987.0  "
      ]
     },
     "execution_count": 7,
     "metadata": {},
     "output_type": "execute_result"
    }
   ],
   "source": [
    "q4_2019.head()"
   ]
  },
  {
   "cell_type": "code",
   "execution_count": 8,
   "id": "f99543ae",
   "metadata": {},
   "outputs": [
    {
     "data": {
      "text/html": [
       "<div>\n",
       "<style scoped>\n",
       "    .dataframe tbody tr th:only-of-type {\n",
       "        vertical-align: middle;\n",
       "    }\n",
       "\n",
       "    .dataframe tbody tr th {\n",
       "        vertical-align: top;\n",
       "    }\n",
       "\n",
       "    .dataframe thead th {\n",
       "        text-align: right;\n",
       "    }\n",
       "</style>\n",
       "<table border=\"1\" class=\"dataframe\">\n",
       "  <thead>\n",
       "    <tr style=\"text-align: right;\">\n",
       "      <th></th>\n",
       "      <th>ride_id</th>\n",
       "      <th>rideable_type</th>\n",
       "      <th>started_at</th>\n",
       "      <th>ended_at</th>\n",
       "      <th>start_station_name</th>\n",
       "      <th>start_station_id</th>\n",
       "      <th>end_station_name</th>\n",
       "      <th>end_station_id</th>\n",
       "      <th>start_lat</th>\n",
       "      <th>start_lng</th>\n",
       "      <th>end_lat</th>\n",
       "      <th>end_lng</th>\n",
       "      <th>member_casual</th>\n",
       "    </tr>\n",
       "  </thead>\n",
       "  <tbody>\n",
       "    <tr>\n",
       "      <th>0</th>\n",
       "      <td>EACB19130B0CDA4A</td>\n",
       "      <td>docked_bike</td>\n",
       "      <td>2020-01-21 20:06:59</td>\n",
       "      <td>2020-01-21 20:14:30</td>\n",
       "      <td>Western Ave &amp; Leland Ave</td>\n",
       "      <td>239</td>\n",
       "      <td>Clark St &amp; Leland Ave</td>\n",
       "      <td>326.0</td>\n",
       "      <td>41.9665</td>\n",
       "      <td>-87.6884</td>\n",
       "      <td>41.9671</td>\n",
       "      <td>-87.6674</td>\n",
       "      <td>member</td>\n",
       "    </tr>\n",
       "    <tr>\n",
       "      <th>1</th>\n",
       "      <td>8FED874C809DC021</td>\n",
       "      <td>docked_bike</td>\n",
       "      <td>2020-01-30 14:22:39</td>\n",
       "      <td>2020-01-30 14:26:22</td>\n",
       "      <td>Clark St &amp; Montrose Ave</td>\n",
       "      <td>234</td>\n",
       "      <td>Southport Ave &amp; Irving Park Rd</td>\n",
       "      <td>318.0</td>\n",
       "      <td>41.9616</td>\n",
       "      <td>-87.6660</td>\n",
       "      <td>41.9542</td>\n",
       "      <td>-87.6644</td>\n",
       "      <td>member</td>\n",
       "    </tr>\n",
       "    <tr>\n",
       "      <th>2</th>\n",
       "      <td>789F3C21E472CA96</td>\n",
       "      <td>docked_bike</td>\n",
       "      <td>2020-01-09 19:29:26</td>\n",
       "      <td>2020-01-09 19:32:17</td>\n",
       "      <td>Broadway &amp; Belmont Ave</td>\n",
       "      <td>296</td>\n",
       "      <td>Wilton Ave &amp; Belmont Ave</td>\n",
       "      <td>117.0</td>\n",
       "      <td>41.9401</td>\n",
       "      <td>-87.6455</td>\n",
       "      <td>41.9402</td>\n",
       "      <td>-87.6530</td>\n",
       "      <td>member</td>\n",
       "    </tr>\n",
       "    <tr>\n",
       "      <th>3</th>\n",
       "      <td>C9A388DAC6ABF313</td>\n",
       "      <td>docked_bike</td>\n",
       "      <td>2020-01-06 16:17:07</td>\n",
       "      <td>2020-01-06 16:25:56</td>\n",
       "      <td>Clark St &amp; Randolph St</td>\n",
       "      <td>51</td>\n",
       "      <td>Fairbanks Ct &amp; Grand Ave</td>\n",
       "      <td>24.0</td>\n",
       "      <td>41.8846</td>\n",
       "      <td>-87.6319</td>\n",
       "      <td>41.8918</td>\n",
       "      <td>-87.6206</td>\n",
       "      <td>member</td>\n",
       "    </tr>\n",
       "    <tr>\n",
       "      <th>4</th>\n",
       "      <td>943BC3CBECCFD662</td>\n",
       "      <td>docked_bike</td>\n",
       "      <td>2020-01-30 08:37:16</td>\n",
       "      <td>2020-01-30 08:42:48</td>\n",
       "      <td>Clinton St &amp; Lake St</td>\n",
       "      <td>66</td>\n",
       "      <td>Wells St &amp; Hubbard St</td>\n",
       "      <td>212.0</td>\n",
       "      <td>41.8856</td>\n",
       "      <td>-87.6418</td>\n",
       "      <td>41.8899</td>\n",
       "      <td>-87.6343</td>\n",
       "      <td>member</td>\n",
       "    </tr>\n",
       "  </tbody>\n",
       "</table>\n",
       "</div>"
      ],
      "text/plain": [
       "            ride_id rideable_type           started_at             ended_at  \\\n",
       "0  EACB19130B0CDA4A   docked_bike  2020-01-21 20:06:59  2020-01-21 20:14:30   \n",
       "1  8FED874C809DC021   docked_bike  2020-01-30 14:22:39  2020-01-30 14:26:22   \n",
       "2  789F3C21E472CA96   docked_bike  2020-01-09 19:29:26  2020-01-09 19:32:17   \n",
       "3  C9A388DAC6ABF313   docked_bike  2020-01-06 16:17:07  2020-01-06 16:25:56   \n",
       "4  943BC3CBECCFD662   docked_bike  2020-01-30 08:37:16  2020-01-30 08:42:48   \n",
       "\n",
       "         start_station_name  start_station_id                end_station_name  \\\n",
       "0  Western Ave & Leland Ave               239           Clark St & Leland Ave   \n",
       "1   Clark St & Montrose Ave               234  Southport Ave & Irving Park Rd   \n",
       "2    Broadway & Belmont Ave               296        Wilton Ave & Belmont Ave   \n",
       "3    Clark St & Randolph St                51        Fairbanks Ct & Grand Ave   \n",
       "4      Clinton St & Lake St                66           Wells St & Hubbard St   \n",
       "\n",
       "   end_station_id  start_lat  start_lng  end_lat  end_lng member_casual  \n",
       "0           326.0    41.9665   -87.6884  41.9671 -87.6674        member  \n",
       "1           318.0    41.9616   -87.6660  41.9542 -87.6644        member  \n",
       "2           117.0    41.9401   -87.6455  41.9402 -87.6530        member  \n",
       "3            24.0    41.8846   -87.6319  41.8918 -87.6206        member  \n",
       "4           212.0    41.8856   -87.6418  41.8899 -87.6343        member  "
      ]
     },
     "execution_count": 8,
     "metadata": {},
     "output_type": "execute_result"
    }
   ],
   "source": [
    "q1_2020.head()"
   ]
  },
  {
   "cell_type": "markdown",
   "id": "d7b7bd09",
   "metadata": {},
   "source": [
    "**STEP 2: WRANGLE DATA AND COMBINE INTO A SINGLE FILE**\n",
    "* Compare column names each of the files\n",
    "\n",
    "* While the names don’t have to be in the same order, they DO need to match perfectly before we can use a command to join them into one file"
   ]
  },
  {
   "cell_type": "code",
   "execution_count": 9,
   "id": "af44f772",
   "metadata": {},
   "outputs": [
    {
     "data": {
      "text/plain": [
       "Index(['01 - Rental Details Rental ID', '01 - Rental Details Local Start Time',\n",
       "       '01 - Rental Details Local End Time', '01 - Rental Details Bike ID',\n",
       "       '01 - Rental Details Duration In Seconds Uncapped',\n",
       "       '03 - Rental Start Station ID', '03 - Rental Start Station Name',\n",
       "       '02 - Rental End Station ID', '02 - Rental End Station Name',\n",
       "       'User Type', 'Member Gender',\n",
       "       '05 - Member Details Member Birthday Year'],\n",
       "      dtype='object')"
      ]
     },
     "execution_count": 9,
     "metadata": {},
     "output_type": "execute_result"
    }
   ],
   "source": [
    "q2_2019.columns"
   ]
  },
  {
   "cell_type": "code",
   "execution_count": 10,
   "id": "d6fe2d3b",
   "metadata": {},
   "outputs": [
    {
     "data": {
      "text/plain": [
       "Index(['trip_id', 'start_time', 'end_time', 'bikeid', 'tripduration',\n",
       "       'from_station_id', 'from_station_name', 'to_station_id',\n",
       "       'to_station_name', 'usertype', 'gender', 'birthyear'],\n",
       "      dtype='object')"
      ]
     },
     "execution_count": 10,
     "metadata": {},
     "output_type": "execute_result"
    }
   ],
   "source": [
    "q3_2019.columns"
   ]
  },
  {
   "cell_type": "code",
   "execution_count": 11,
   "id": "c9a0ed16",
   "metadata": {},
   "outputs": [
    {
     "data": {
      "text/plain": [
       "Index(['trip_id', 'start_time', 'end_time', 'bikeid', 'tripduration',\n",
       "       'from_station_id', 'from_station_name', 'to_station_id',\n",
       "       'to_station_name', 'usertype', 'gender', 'birthyear'],\n",
       "      dtype='object')"
      ]
     },
     "execution_count": 11,
     "metadata": {},
     "output_type": "execute_result"
    }
   ],
   "source": [
    "q4_2019.columns"
   ]
  },
  {
   "cell_type": "code",
   "execution_count": 12,
   "id": "f9a36f8f",
   "metadata": {},
   "outputs": [
    {
     "data": {
      "text/plain": [
       "Index(['ride_id', 'rideable_type', 'started_at', 'ended_at',\n",
       "       'start_station_name', 'start_station_id', 'end_station_name',\n",
       "       'end_station_id', 'start_lat', 'start_lng', 'end_lat', 'end_lng',\n",
       "       'member_casual'],\n",
       "      dtype='object')"
      ]
     },
     "execution_count": 12,
     "metadata": {},
     "output_type": "execute_result"
    }
   ],
   "source": [
    "q1_2020.columns"
   ]
  },
  {
   "cell_type": "markdown",
   "id": "8323560f",
   "metadata": {},
   "source": [
    "Rename columns to make them consisent with q1_2020 (as this will be the supposed going-forward table design for Divvy)"
   ]
  },
  {
   "cell_type": "code",
   "execution_count": 13,
   "id": "b0561821",
   "metadata": {},
   "outputs": [],
   "source": [
    "q2_2019.rename(columns={'01 - Rental Details Rental ID':'ride_id', '01 - Rental Details Bike ID':'rideable_type', \n",
    "                         '01 - Rental Details Local Start Time':'started_at',\n",
    "       '01 - Rental Details Local End Time':'ended_at',\n",
    "                         '03 - Rental Start Station Name':'start_station_name',\n",
    "       '03 - Rental Start Station ID':'start_station_id',\n",
    "                         '02 - Rental End Station Name':'end_station_name',\n",
    "       '02 - Rental End Station ID':'end_station_id',\n",
    "       'User Type':'member_casual'},inplace=True)"
   ]
  },
  {
   "cell_type": "code",
   "execution_count": 14,
   "id": "dbea7f00",
   "metadata": {},
   "outputs": [],
   "source": [
    "q3_2019.rename(columns={'trip_id':'ride_id', 'bikeid':'rideable_type', 'start_time':'started_at', 'end_time':'ended_at', \n",
    "                    'from_station_name':'start_station_name',\n",
    "       'from_station_id':'start_station_id', 'to_station_name':'end_station_name', 'to_station_id':'end_station_id',\n",
    "        'usertype':'member_casual'}, inplace=True)"
   ]
  },
  {
   "cell_type": "code",
   "execution_count": 15,
   "id": "38c25a8d",
   "metadata": {},
   "outputs": [],
   "source": [
    "q4_2019.rename(columns={'trip_id':'ride_id', 'bikeid':'rideable_type', 'start_time':'started_at', 'end_time':'ended_at',\n",
    "                        'from_station_name':'start_station_name',\n",
    "       'from_station_id':'start_station_id', 'to_station_name':'end_station_name', 'to_station_id':'end_station_id',\n",
    "       'usertype':'member_casual'}, inplace=True)"
   ]
  },
  {
   "cell_type": "markdown",
   "id": "5b57f4d6",
   "metadata": {},
   "source": [
    "Inspect the dataframes and look for incongruencies"
   ]
  },
  {
   "cell_type": "code",
   "execution_count": 16,
   "id": "e93d0383",
   "metadata": {},
   "outputs": [
    {
     "name": "stdout",
     "output_type": "stream",
     "text": [
      "<class 'pandas.core.frame.DataFrame'>\n",
      "RangeIndex: 1108163 entries, 0 to 1108162\n",
      "Data columns (total 12 columns):\n",
      " #   Column                                            Non-Null Count    Dtype  \n",
      "---  ------                                            --------------    -----  \n",
      " 0   ride_id                                           1108163 non-null  int64  \n",
      " 1   started_at                                        1108163 non-null  object \n",
      " 2   ended_at                                          1108163 non-null  object \n",
      " 3   rideable_type                                     1108163 non-null  int64  \n",
      " 4   01 - Rental Details Duration In Seconds Uncapped  1108163 non-null  object \n",
      " 5   start_station_id                                  1108163 non-null  int64  \n",
      " 6   start_station_name                                1108163 non-null  object \n",
      " 7   end_station_id                                    1108163 non-null  int64  \n",
      " 8   end_station_name                                  1108163 non-null  object \n",
      " 9   member_casual                                     1108163 non-null  object \n",
      " 10  Member Gender                                     922609 non-null   object \n",
      " 11  05 - Member Details Member Birthday Year          927210 non-null   float64\n",
      "dtypes: float64(1), int64(4), object(7)\n",
      "memory usage: 101.5+ MB\n"
     ]
    }
   ],
   "source": [
    "q2_2019.info()"
   ]
  },
  {
   "cell_type": "code",
   "execution_count": 17,
   "id": "62f4c43b",
   "metadata": {},
   "outputs": [
    {
     "name": "stdout",
     "output_type": "stream",
     "text": [
      "<class 'pandas.core.frame.DataFrame'>\n",
      "RangeIndex: 1640718 entries, 0 to 1640717\n",
      "Data columns (total 12 columns):\n",
      " #   Column              Non-Null Count    Dtype  \n",
      "---  ------              --------------    -----  \n",
      " 0   ride_id             1640718 non-null  int64  \n",
      " 1   started_at          1640718 non-null  object \n",
      " 2   ended_at            1640718 non-null  object \n",
      " 3   rideable_type       1640718 non-null  int64  \n",
      " 4   tripduration        1640718 non-null  object \n",
      " 5   start_station_id    1640718 non-null  int64  \n",
      " 6   start_station_name  1640718 non-null  object \n",
      " 7   end_station_id      1640718 non-null  int64  \n",
      " 8   end_station_name    1640718 non-null  object \n",
      " 9   member_casual       1640718 non-null  object \n",
      " 10  gender              1353368 non-null  object \n",
      " 11  birthyear           1362624 non-null  float64\n",
      "dtypes: float64(1), int64(4), object(7)\n",
      "memory usage: 150.2+ MB\n"
     ]
    }
   ],
   "source": [
    "q3_2019.info()"
   ]
  },
  {
   "cell_type": "code",
   "execution_count": 18,
   "id": "33f363ef",
   "metadata": {},
   "outputs": [
    {
     "name": "stdout",
     "output_type": "stream",
     "text": [
      "<class 'pandas.core.frame.DataFrame'>\n",
      "RangeIndex: 704054 entries, 0 to 704053\n",
      "Data columns (total 12 columns):\n",
      " #   Column              Non-Null Count   Dtype  \n",
      "---  ------              --------------   -----  \n",
      " 0   ride_id             704054 non-null  int64  \n",
      " 1   started_at          704054 non-null  object \n",
      " 2   ended_at            704054 non-null  object \n",
      " 3   rideable_type       704054 non-null  int64  \n",
      " 4   tripduration        704054 non-null  object \n",
      " 5   start_station_id    704054 non-null  int64  \n",
      " 6   start_station_name  704054 non-null  object \n",
      " 7   end_station_id      704054 non-null  int64  \n",
      " 8   end_station_name    704054 non-null  object \n",
      " 9   member_casual       704054 non-null  object \n",
      " 10  gender              637463 non-null  object \n",
      " 11  birthyear           642373 non-null  float64\n",
      "dtypes: float64(1), int64(4), object(7)\n",
      "memory usage: 64.5+ MB\n"
     ]
    }
   ],
   "source": [
    "q4_2019.info()"
   ]
  },
  {
   "cell_type": "code",
   "execution_count": 19,
   "id": "6bbab144",
   "metadata": {},
   "outputs": [
    {
     "name": "stdout",
     "output_type": "stream",
     "text": [
      "<class 'pandas.core.frame.DataFrame'>\n",
      "RangeIndex: 426887 entries, 0 to 426886\n",
      "Data columns (total 13 columns):\n",
      " #   Column              Non-Null Count   Dtype  \n",
      "---  ------              --------------   -----  \n",
      " 0   ride_id             426887 non-null  object \n",
      " 1   rideable_type       426887 non-null  object \n",
      " 2   started_at          426887 non-null  object \n",
      " 3   ended_at            426887 non-null  object \n",
      " 4   start_station_name  426887 non-null  object \n",
      " 5   start_station_id    426887 non-null  int64  \n",
      " 6   end_station_name    426886 non-null  object \n",
      " 7   end_station_id      426886 non-null  float64\n",
      " 8   start_lat           426887 non-null  float64\n",
      " 9   start_lng           426887 non-null  float64\n",
      " 10  end_lat             426886 non-null  float64\n",
      " 11  end_lng             426886 non-null  float64\n",
      " 12  member_casual       426887 non-null  object \n",
      "dtypes: float64(5), int64(1), object(7)\n",
      "memory usage: 42.3+ MB\n"
     ]
    }
   ],
   "source": [
    "q1_2020.info()"
   ]
  },
  {
   "cell_type": "markdown",
   "id": "5e913490",
   "metadata": {},
   "source": [
    "Change *started_at* and *ended_at* data type in all the dataframes from object to datetime"
   ]
  },
  {
   "cell_type": "code",
   "execution_count": 20,
   "id": "6e10dcc2",
   "metadata": {},
   "outputs": [],
   "source": [
    "q2_2019['started_at'] = pd.to_datetime(q2_2019['started_at'], format=\"%Y-%m-%d %H:%M:%S\")\n",
    "q3_2019['started_at'] = pd.to_datetime(q3_2019['started_at'], format=\"%Y-%m-%d %H:%M:%S\")\n",
    "q4_2019['started_at'] = pd.to_datetime(q4_2019['started_at'], format=\"%Y-%m-%d %H:%M:%S\")\n",
    "q1_2020['started_at'] = pd.to_datetime(q1_2020['started_at'], format=\"%Y-%m-%d %H:%M:%S\")\n",
    "q2_2019['ended_at'] = pd.to_datetime(q2_2019['ended_at'], format=\"%Y-%m-%d %H:%M:%S\")\n",
    "q3_2019['ended_at'] = pd.to_datetime(q3_2019['ended_at'], format=\"%Y-%m-%d %H:%M:%S\")\n",
    "q4_2019['ended_at'] = pd.to_datetime(q4_2019['ended_at'], format=\"%Y-%m-%d %H:%M:%S\")\n",
    "q1_2020['ended_at'] = pd.to_datetime(q1_2020['ended_at'], format=\"%Y-%m-%d %H:%M:%S\")"
   ]
  },
  {
   "cell_type": "markdown",
   "id": "959f1f80",
   "metadata": {},
   "source": [
    "We observed that data type of *end_station_id* in q2_2019, q3_2019 and q4_2019 is 'int64' but in q1_2020 it is 'float64'\n",
    "so need to change *end_station_id* in q1_2020 to 'int64'. we need to follow the following steps:\n",
    "\n",
    "1. Check if there is any null values in column *end_station_id* of q1_2020\n",
    "2. If yes, then remove those NA values so that we can convert it into 'int64'"
   ]
  },
  {
   "cell_type": "code",
   "execution_count": 21,
   "id": "b0b1a281",
   "metadata": {},
   "outputs": [],
   "source": [
    "q1_2020.drop(q1_2020.loc[q1_2020.end_station_id.isna()].index,inplace=True)"
   ]
  },
  {
   "cell_type": "code",
   "execution_count": 22,
   "id": "b07d0ddf",
   "metadata": {},
   "outputs": [
    {
     "data": {
      "text/plain": [
       "0    326\n",
       "1    318\n",
       "2    117\n",
       "3     24\n",
       "4    212\n",
       "Name: end_station_id, dtype: int64"
      ]
     },
     "execution_count": 22,
     "metadata": {},
     "output_type": "execute_result"
    }
   ],
   "source": [
    "q1_2020['end_station_id'] = q1_2020.end_station_id.astype('int64')\n",
    "q1_2020['end_station_id'].head()"
   ]
  },
  {
   "cell_type": "markdown",
   "id": "e8e12ab0",
   "metadata": {},
   "source": [
    "Convert *ride_id* and *rideable_type* to character for q2_2019, q3_2019 and q4_2019 so that they can stack correctly with q1_2020"
   ]
  },
  {
   "cell_type": "code",
   "execution_count": 23,
   "id": "9bb94f05",
   "metadata": {},
   "outputs": [],
   "source": [
    "q2_2019['ride_id'] = q2_2019['ride_id'].astype('object')\n",
    "q3_2019['ride_id'] = q3_2019['ride_id'].astype('object')\n",
    "q4_2019['ride_id'] = q4_2019['ride_id'].astype('object')\n",
    "q2_2019['rideable_type'] = q2_2019['rideable_type'].astype('object')\n",
    "q3_2019['rideable_type'] = q3_2019['rideable_type'].astype('object')\n",
    "q4_2019['rideable_type'] = q4_2019['rideable_type'].astype('object')"
   ]
  },
  {
   "cell_type": "markdown",
   "id": "0462c634",
   "metadata": {},
   "source": [
    "Now let's check the data structure"
   ]
  },
  {
   "cell_type": "code",
   "execution_count": 24,
   "id": "81261253",
   "metadata": {},
   "outputs": [
    {
     "name": "stdout",
     "output_type": "stream",
     "text": [
      "<class 'pandas.core.frame.DataFrame'>\n",
      "RangeIndex: 1108163 entries, 0 to 1108162\n",
      "Data columns (total 12 columns):\n",
      " #   Column                                            Non-Null Count    Dtype         \n",
      "---  ------                                            --------------    -----         \n",
      " 0   ride_id                                           1108163 non-null  object        \n",
      " 1   started_at                                        1108163 non-null  datetime64[ns]\n",
      " 2   ended_at                                          1108163 non-null  datetime64[ns]\n",
      " 3   rideable_type                                     1108163 non-null  object        \n",
      " 4   01 - Rental Details Duration In Seconds Uncapped  1108163 non-null  object        \n",
      " 5   start_station_id                                  1108163 non-null  int64         \n",
      " 6   start_station_name                                1108163 non-null  object        \n",
      " 7   end_station_id                                    1108163 non-null  int64         \n",
      " 8   end_station_name                                  1108163 non-null  object        \n",
      " 9   member_casual                                     1108163 non-null  object        \n",
      " 10  Member Gender                                     922609 non-null   object        \n",
      " 11  05 - Member Details Member Birthday Year          927210 non-null   float64       \n",
      "dtypes: datetime64[ns](2), float64(1), int64(2), object(7)\n",
      "memory usage: 101.5+ MB\n"
     ]
    }
   ],
   "source": [
    "q2_2019.info()"
   ]
  },
  {
   "cell_type": "code",
   "execution_count": 25,
   "id": "6cfa5544",
   "metadata": {},
   "outputs": [
    {
     "name": "stdout",
     "output_type": "stream",
     "text": [
      "<class 'pandas.core.frame.DataFrame'>\n",
      "RangeIndex: 1640718 entries, 0 to 1640717\n",
      "Data columns (total 12 columns):\n",
      " #   Column              Non-Null Count    Dtype         \n",
      "---  ------              --------------    -----         \n",
      " 0   ride_id             1640718 non-null  object        \n",
      " 1   started_at          1640718 non-null  datetime64[ns]\n",
      " 2   ended_at            1640718 non-null  datetime64[ns]\n",
      " 3   rideable_type       1640718 non-null  object        \n",
      " 4   tripduration        1640718 non-null  object        \n",
      " 5   start_station_id    1640718 non-null  int64         \n",
      " 6   start_station_name  1640718 non-null  object        \n",
      " 7   end_station_id      1640718 non-null  int64         \n",
      " 8   end_station_name    1640718 non-null  object        \n",
      " 9   member_casual       1640718 non-null  object        \n",
      " 10  gender              1353368 non-null  object        \n",
      " 11  birthyear           1362624 non-null  float64       \n",
      "dtypes: datetime64[ns](2), float64(1), int64(2), object(7)\n",
      "memory usage: 150.2+ MB\n"
     ]
    }
   ],
   "source": [
    "q3_2019.info()"
   ]
  },
  {
   "cell_type": "code",
   "execution_count": 26,
   "id": "22e4400c",
   "metadata": {},
   "outputs": [
    {
     "name": "stdout",
     "output_type": "stream",
     "text": [
      "<class 'pandas.core.frame.DataFrame'>\n",
      "RangeIndex: 704054 entries, 0 to 704053\n",
      "Data columns (total 12 columns):\n",
      " #   Column              Non-Null Count   Dtype         \n",
      "---  ------              --------------   -----         \n",
      " 0   ride_id             704054 non-null  object        \n",
      " 1   started_at          704054 non-null  datetime64[ns]\n",
      " 2   ended_at            704054 non-null  datetime64[ns]\n",
      " 3   rideable_type       704054 non-null  object        \n",
      " 4   tripduration        704054 non-null  object        \n",
      " 5   start_station_id    704054 non-null  int64         \n",
      " 6   start_station_name  704054 non-null  object        \n",
      " 7   end_station_id      704054 non-null  int64         \n",
      " 8   end_station_name    704054 non-null  object        \n",
      " 9   member_casual       704054 non-null  object        \n",
      " 10  gender              637463 non-null  object        \n",
      " 11  birthyear           642373 non-null  float64       \n",
      "dtypes: datetime64[ns](2), float64(1), int64(2), object(7)\n",
      "memory usage: 64.5+ MB\n"
     ]
    }
   ],
   "source": [
    "q4_2019.info()"
   ]
  },
  {
   "cell_type": "code",
   "execution_count": 27,
   "id": "d90a6a55",
   "metadata": {},
   "outputs": [
    {
     "name": "stdout",
     "output_type": "stream",
     "text": [
      "<class 'pandas.core.frame.DataFrame'>\n",
      "Int64Index: 426886 entries, 0 to 426886\n",
      "Data columns (total 13 columns):\n",
      " #   Column              Non-Null Count   Dtype         \n",
      "---  ------              --------------   -----         \n",
      " 0   ride_id             426886 non-null  object        \n",
      " 1   rideable_type       426886 non-null  object        \n",
      " 2   started_at          426886 non-null  datetime64[ns]\n",
      " 3   ended_at            426886 non-null  datetime64[ns]\n",
      " 4   start_station_name  426886 non-null  object        \n",
      " 5   start_station_id    426886 non-null  int64         \n",
      " 6   end_station_name    426886 non-null  object        \n",
      " 7   end_station_id      426886 non-null  int64         \n",
      " 8   start_lat           426886 non-null  float64       \n",
      " 9   start_lng           426886 non-null  float64       \n",
      " 10  end_lat             426886 non-null  float64       \n",
      " 11  end_lng             426886 non-null  float64       \n",
      " 12  member_casual       426886 non-null  object        \n",
      "dtypes: datetime64[ns](2), float64(4), int64(2), object(5)\n",
      "memory usage: 45.6+ MB\n"
     ]
    }
   ],
   "source": [
    "q1_2020.info()"
   ]
  },
  {
   "cell_type": "markdown",
   "id": "02ea5fed",
   "metadata": {},
   "source": [
    "Combine each quarter’s data frames into one single data frame"
   ]
  },
  {
   "cell_type": "code",
   "execution_count": 28,
   "id": "eb46d556",
   "metadata": {},
   "outputs": [
    {
     "data": {
      "text/html": [
       "<div>\n",
       "<style scoped>\n",
       "    .dataframe tbody tr th:only-of-type {\n",
       "        vertical-align: middle;\n",
       "    }\n",
       "\n",
       "    .dataframe tbody tr th {\n",
       "        vertical-align: top;\n",
       "    }\n",
       "\n",
       "    .dataframe thead th {\n",
       "        text-align: right;\n",
       "    }\n",
       "</style>\n",
       "<table border=\"1\" class=\"dataframe\">\n",
       "  <thead>\n",
       "    <tr style=\"text-align: right;\">\n",
       "      <th></th>\n",
       "      <th>ride_id</th>\n",
       "      <th>started_at</th>\n",
       "      <th>ended_at</th>\n",
       "      <th>rideable_type</th>\n",
       "      <th>01 - Rental Details Duration In Seconds Uncapped</th>\n",
       "      <th>start_station_id</th>\n",
       "      <th>start_station_name</th>\n",
       "      <th>end_station_id</th>\n",
       "      <th>end_station_name</th>\n",
       "      <th>member_casual</th>\n",
       "      <th>Member Gender</th>\n",
       "      <th>05 - Member Details Member Birthday Year</th>\n",
       "      <th>tripduration</th>\n",
       "      <th>gender</th>\n",
       "      <th>birthyear</th>\n",
       "      <th>start_lat</th>\n",
       "      <th>start_lng</th>\n",
       "      <th>end_lat</th>\n",
       "      <th>end_lng</th>\n",
       "    </tr>\n",
       "  </thead>\n",
       "  <tbody>\n",
       "    <tr>\n",
       "      <th>0</th>\n",
       "      <td>22178529</td>\n",
       "      <td>2019-04-01 00:02:22</td>\n",
       "      <td>2019-04-01 00:09:48</td>\n",
       "      <td>6251</td>\n",
       "      <td>446.0</td>\n",
       "      <td>81</td>\n",
       "      <td>Daley Center Plaza</td>\n",
       "      <td>56</td>\n",
       "      <td>Desplaines St &amp; Kinzie St</td>\n",
       "      <td>Subscriber</td>\n",
       "      <td>Male</td>\n",
       "      <td>1975.0</td>\n",
       "      <td>NaN</td>\n",
       "      <td>NaN</td>\n",
       "      <td>NaN</td>\n",
       "      <td>NaN</td>\n",
       "      <td>NaN</td>\n",
       "      <td>NaN</td>\n",
       "      <td>NaN</td>\n",
       "    </tr>\n",
       "    <tr>\n",
       "      <th>1</th>\n",
       "      <td>22178530</td>\n",
       "      <td>2019-04-01 00:03:02</td>\n",
       "      <td>2019-04-01 00:20:30</td>\n",
       "      <td>6226</td>\n",
       "      <td>1,048.0</td>\n",
       "      <td>317</td>\n",
       "      <td>Wood St &amp; Taylor St</td>\n",
       "      <td>59</td>\n",
       "      <td>Wabash Ave &amp; Roosevelt Rd</td>\n",
       "      <td>Subscriber</td>\n",
       "      <td>Female</td>\n",
       "      <td>1984.0</td>\n",
       "      <td>NaN</td>\n",
       "      <td>NaN</td>\n",
       "      <td>NaN</td>\n",
       "      <td>NaN</td>\n",
       "      <td>NaN</td>\n",
       "      <td>NaN</td>\n",
       "      <td>NaN</td>\n",
       "    </tr>\n",
       "    <tr>\n",
       "      <th>2</th>\n",
       "      <td>22178531</td>\n",
       "      <td>2019-04-01 00:11:07</td>\n",
       "      <td>2019-04-01 00:15:19</td>\n",
       "      <td>5649</td>\n",
       "      <td>252.0</td>\n",
       "      <td>283</td>\n",
       "      <td>LaSalle St &amp; Jackson Blvd</td>\n",
       "      <td>174</td>\n",
       "      <td>Canal St &amp; Madison St</td>\n",
       "      <td>Subscriber</td>\n",
       "      <td>Male</td>\n",
       "      <td>1990.0</td>\n",
       "      <td>NaN</td>\n",
       "      <td>NaN</td>\n",
       "      <td>NaN</td>\n",
       "      <td>NaN</td>\n",
       "      <td>NaN</td>\n",
       "      <td>NaN</td>\n",
       "      <td>NaN</td>\n",
       "    </tr>\n",
       "    <tr>\n",
       "      <th>3</th>\n",
       "      <td>22178532</td>\n",
       "      <td>2019-04-01 00:13:01</td>\n",
       "      <td>2019-04-01 00:18:58</td>\n",
       "      <td>4151</td>\n",
       "      <td>357.0</td>\n",
       "      <td>26</td>\n",
       "      <td>McClurg Ct &amp; Illinois St</td>\n",
       "      <td>133</td>\n",
       "      <td>Kingsbury St &amp; Kinzie St</td>\n",
       "      <td>Subscriber</td>\n",
       "      <td>Male</td>\n",
       "      <td>1993.0</td>\n",
       "      <td>NaN</td>\n",
       "      <td>NaN</td>\n",
       "      <td>NaN</td>\n",
       "      <td>NaN</td>\n",
       "      <td>NaN</td>\n",
       "      <td>NaN</td>\n",
       "      <td>NaN</td>\n",
       "    </tr>\n",
       "    <tr>\n",
       "      <th>4</th>\n",
       "      <td>22178533</td>\n",
       "      <td>2019-04-01 00:19:26</td>\n",
       "      <td>2019-04-01 00:36:13</td>\n",
       "      <td>3270</td>\n",
       "      <td>1,007.0</td>\n",
       "      <td>202</td>\n",
       "      <td>Halsted St &amp; 18th St</td>\n",
       "      <td>129</td>\n",
       "      <td>Blue Island Ave &amp; 18th St</td>\n",
       "      <td>Subscriber</td>\n",
       "      <td>Male</td>\n",
       "      <td>1992.0</td>\n",
       "      <td>NaN</td>\n",
       "      <td>NaN</td>\n",
       "      <td>NaN</td>\n",
       "      <td>NaN</td>\n",
       "      <td>NaN</td>\n",
       "      <td>NaN</td>\n",
       "      <td>NaN</td>\n",
       "    </tr>\n",
       "  </tbody>\n",
       "</table>\n",
       "</div>"
      ],
      "text/plain": [
       "    ride_id          started_at            ended_at rideable_type  \\\n",
       "0  22178529 2019-04-01 00:02:22 2019-04-01 00:09:48          6251   \n",
       "1  22178530 2019-04-01 00:03:02 2019-04-01 00:20:30          6226   \n",
       "2  22178531 2019-04-01 00:11:07 2019-04-01 00:15:19          5649   \n",
       "3  22178532 2019-04-01 00:13:01 2019-04-01 00:18:58          4151   \n",
       "4  22178533 2019-04-01 00:19:26 2019-04-01 00:36:13          3270   \n",
       "\n",
       "  01 - Rental Details Duration In Seconds Uncapped  start_station_id  \\\n",
       "0                                            446.0                81   \n",
       "1                                          1,048.0               317   \n",
       "2                                            252.0               283   \n",
       "3                                            357.0                26   \n",
       "4                                          1,007.0               202   \n",
       "\n",
       "          start_station_name  end_station_id           end_station_name  \\\n",
       "0         Daley Center Plaza              56  Desplaines St & Kinzie St   \n",
       "1        Wood St & Taylor St              59  Wabash Ave & Roosevelt Rd   \n",
       "2  LaSalle St & Jackson Blvd             174      Canal St & Madison St   \n",
       "3   McClurg Ct & Illinois St             133   Kingsbury St & Kinzie St   \n",
       "4       Halsted St & 18th St             129  Blue Island Ave & 18th St   \n",
       "\n",
       "  member_casual Member Gender  05 - Member Details Member Birthday Year  \\\n",
       "0    Subscriber          Male                                    1975.0   \n",
       "1    Subscriber        Female                                    1984.0   \n",
       "2    Subscriber          Male                                    1990.0   \n",
       "3    Subscriber          Male                                    1993.0   \n",
       "4    Subscriber          Male                                    1992.0   \n",
       "\n",
       "  tripduration gender  birthyear  start_lat  start_lng  end_lat  end_lng  \n",
       "0          NaN    NaN        NaN        NaN        NaN      NaN      NaN  \n",
       "1          NaN    NaN        NaN        NaN        NaN      NaN      NaN  \n",
       "2          NaN    NaN        NaN        NaN        NaN      NaN      NaN  \n",
       "3          NaN    NaN        NaN        NaN        NaN      NaN      NaN  \n",
       "4          NaN    NaN        NaN        NaN        NaN      NaN      NaN  "
      ]
     },
     "execution_count": 28,
     "metadata": {},
     "output_type": "execute_result"
    }
   ],
   "source": [
    "all_trips = pd.concat([q2_2019,q3_2019,q4_2019,q1_2020], ignore_index=True)\n",
    "all_trips.head()"
   ]
  },
  {
   "cell_type": "markdown",
   "id": "167e33a7",
   "metadata": {},
   "source": [
    "We should remove all the columns from combined dataset 'all_trips' which are not present in the 'q1_2020' dataset"
   ]
  },
  {
   "cell_type": "code",
   "execution_count": 29,
   "id": "eae32cfb",
   "metadata": {},
   "outputs": [
    {
     "data": {
      "text/html": [
       "<div>\n",
       "<style scoped>\n",
       "    .dataframe tbody tr th:only-of-type {\n",
       "        vertical-align: middle;\n",
       "    }\n",
       "\n",
       "    .dataframe tbody tr th {\n",
       "        vertical-align: top;\n",
       "    }\n",
       "\n",
       "    .dataframe thead th {\n",
       "        text-align: right;\n",
       "    }\n",
       "</style>\n",
       "<table border=\"1\" class=\"dataframe\">\n",
       "  <thead>\n",
       "    <tr style=\"text-align: right;\">\n",
       "      <th></th>\n",
       "      <th>ride_id</th>\n",
       "      <th>started_at</th>\n",
       "      <th>ended_at</th>\n",
       "      <th>rideable_type</th>\n",
       "      <th>start_station_id</th>\n",
       "      <th>start_station_name</th>\n",
       "      <th>end_station_id</th>\n",
       "      <th>end_station_name</th>\n",
       "      <th>member_casual</th>\n",
       "    </tr>\n",
       "  </thead>\n",
       "  <tbody>\n",
       "    <tr>\n",
       "      <th>0</th>\n",
       "      <td>22178529</td>\n",
       "      <td>2019-04-01 00:02:22</td>\n",
       "      <td>2019-04-01 00:09:48</td>\n",
       "      <td>6251</td>\n",
       "      <td>81</td>\n",
       "      <td>Daley Center Plaza</td>\n",
       "      <td>56</td>\n",
       "      <td>Desplaines St &amp; Kinzie St</td>\n",
       "      <td>Subscriber</td>\n",
       "    </tr>\n",
       "    <tr>\n",
       "      <th>1</th>\n",
       "      <td>22178530</td>\n",
       "      <td>2019-04-01 00:03:02</td>\n",
       "      <td>2019-04-01 00:20:30</td>\n",
       "      <td>6226</td>\n",
       "      <td>317</td>\n",
       "      <td>Wood St &amp; Taylor St</td>\n",
       "      <td>59</td>\n",
       "      <td>Wabash Ave &amp; Roosevelt Rd</td>\n",
       "      <td>Subscriber</td>\n",
       "    </tr>\n",
       "    <tr>\n",
       "      <th>2</th>\n",
       "      <td>22178531</td>\n",
       "      <td>2019-04-01 00:11:07</td>\n",
       "      <td>2019-04-01 00:15:19</td>\n",
       "      <td>5649</td>\n",
       "      <td>283</td>\n",
       "      <td>LaSalle St &amp; Jackson Blvd</td>\n",
       "      <td>174</td>\n",
       "      <td>Canal St &amp; Madison St</td>\n",
       "      <td>Subscriber</td>\n",
       "    </tr>\n",
       "    <tr>\n",
       "      <th>3</th>\n",
       "      <td>22178532</td>\n",
       "      <td>2019-04-01 00:13:01</td>\n",
       "      <td>2019-04-01 00:18:58</td>\n",
       "      <td>4151</td>\n",
       "      <td>26</td>\n",
       "      <td>McClurg Ct &amp; Illinois St</td>\n",
       "      <td>133</td>\n",
       "      <td>Kingsbury St &amp; Kinzie St</td>\n",
       "      <td>Subscriber</td>\n",
       "    </tr>\n",
       "    <tr>\n",
       "      <th>4</th>\n",
       "      <td>22178533</td>\n",
       "      <td>2019-04-01 00:19:26</td>\n",
       "      <td>2019-04-01 00:36:13</td>\n",
       "      <td>3270</td>\n",
       "      <td>202</td>\n",
       "      <td>Halsted St &amp; 18th St</td>\n",
       "      <td>129</td>\n",
       "      <td>Blue Island Ave &amp; 18th St</td>\n",
       "      <td>Subscriber</td>\n",
       "    </tr>\n",
       "  </tbody>\n",
       "</table>\n",
       "</div>"
      ],
      "text/plain": [
       "    ride_id          started_at            ended_at rideable_type  \\\n",
       "0  22178529 2019-04-01 00:02:22 2019-04-01 00:09:48          6251   \n",
       "1  22178530 2019-04-01 00:03:02 2019-04-01 00:20:30          6226   \n",
       "2  22178531 2019-04-01 00:11:07 2019-04-01 00:15:19          5649   \n",
       "3  22178532 2019-04-01 00:13:01 2019-04-01 00:18:58          4151   \n",
       "4  22178533 2019-04-01 00:19:26 2019-04-01 00:36:13          3270   \n",
       "\n",
       "   start_station_id         start_station_name  end_station_id  \\\n",
       "0                81         Daley Center Plaza              56   \n",
       "1               317        Wood St & Taylor St              59   \n",
       "2               283  LaSalle St & Jackson Blvd             174   \n",
       "3                26   McClurg Ct & Illinois St             133   \n",
       "4               202       Halsted St & 18th St             129   \n",
       "\n",
       "            end_station_name member_casual  \n",
       "0  Desplaines St & Kinzie St    Subscriber  \n",
       "1  Wabash Ave & Roosevelt Rd    Subscriber  \n",
       "2      Canal St & Madison St    Subscriber  \n",
       "3   Kingsbury St & Kinzie St    Subscriber  \n",
       "4  Blue Island Ave & 18th St    Subscriber  "
      ]
     },
     "execution_count": 29,
     "metadata": {},
     "output_type": "execute_result"
    }
   ],
   "source": [
    "all_trips = all_trips.drop(columns=['start_lat', 'start_lng', 'end_lat', 'end_lng', 'birthyear', 'gender', \"01 - Rental Details Duration In Seconds Uncapped\", \"05 - Member Details Member Birthday Year\", \"Member Gender\", \"tripduration\"])\n",
    "all_trips.head()"
   ]
  },
  {
   "cell_type": "markdown",
   "id": "f6685ebd",
   "metadata": {},
   "source": [
    "**STEP 3: CLEAN UP AND ADD DATA TO PREPARE FOR ANALYSIS**\n",
    "\n",
    "Inspect the new table that has been created"
   ]
  },
  {
   "cell_type": "code",
   "execution_count": 30,
   "id": "4c6c9890",
   "metadata": {},
   "outputs": [
    {
     "data": {
      "text/plain": [
       "Index(['ride_id', 'started_at', 'ended_at', 'rideable_type',\n",
       "       'start_station_id', 'start_station_name', 'end_station_id',\n",
       "       'end_station_name', 'member_casual'],\n",
       "      dtype='object')"
      ]
     },
     "execution_count": 30,
     "metadata": {},
     "output_type": "execute_result"
    }
   ],
   "source": [
    "all_trips.columns"
   ]
  },
  {
   "cell_type": "code",
   "execution_count": 31,
   "id": "88985b49",
   "metadata": {},
   "outputs": [
    {
     "data": {
      "text/plain": [
       "(3879821, 9)"
      ]
     },
     "execution_count": 31,
     "metadata": {},
     "output_type": "execute_result"
    }
   ],
   "source": [
    "all_trips.shape"
   ]
  },
  {
   "cell_type": "code",
   "execution_count": 32,
   "id": "41e95eb5",
   "metadata": {},
   "outputs": [
    {
     "name": "stdout",
     "output_type": "stream",
     "text": [
      "<class 'pandas.core.frame.DataFrame'>\n",
      "RangeIndex: 3879821 entries, 0 to 3879820\n",
      "Data columns (total 9 columns):\n",
      " #   Column              Dtype         \n",
      "---  ------              -----         \n",
      " 0   ride_id             object        \n",
      " 1   started_at          datetime64[ns]\n",
      " 2   ended_at            datetime64[ns]\n",
      " 3   rideable_type       object        \n",
      " 4   start_station_id    int64         \n",
      " 5   start_station_name  object        \n",
      " 6   end_station_id      int64         \n",
      " 7   end_station_name    object        \n",
      " 8   member_casual       object        \n",
      "dtypes: datetime64[ns](2), int64(2), object(5)\n",
      "memory usage: 266.4+ MB\n"
     ]
    }
   ],
   "source": [
    "all_trips.info()"
   ]
  },
  {
   "cell_type": "code",
   "execution_count": 33,
   "id": "c87e1ba1",
   "metadata": {},
   "outputs": [
    {
     "data": {
      "text/html": [
       "<div>\n",
       "<style scoped>\n",
       "    .dataframe tbody tr th:only-of-type {\n",
       "        vertical-align: middle;\n",
       "    }\n",
       "\n",
       "    .dataframe tbody tr th {\n",
       "        vertical-align: top;\n",
       "    }\n",
       "\n",
       "    .dataframe thead th {\n",
       "        text-align: right;\n",
       "    }\n",
       "</style>\n",
       "<table border=\"1\" class=\"dataframe\">\n",
       "  <thead>\n",
       "    <tr style=\"text-align: right;\">\n",
       "      <th></th>\n",
       "      <th>start_station_id</th>\n",
       "      <th>end_station_id</th>\n",
       "    </tr>\n",
       "  </thead>\n",
       "  <tbody>\n",
       "    <tr>\n",
       "      <th>count</th>\n",
       "      <td>3.879821e+06</td>\n",
       "      <td>3.879821e+06</td>\n",
       "    </tr>\n",
       "    <tr>\n",
       "      <th>mean</th>\n",
       "      <td>2.028971e+02</td>\n",
       "      <td>2.037552e+02</td>\n",
       "    </tr>\n",
       "    <tr>\n",
       "      <th>std</th>\n",
       "      <td>1.571359e+02</td>\n",
       "      <td>1.571912e+02</td>\n",
       "    </tr>\n",
       "    <tr>\n",
       "      <th>min</th>\n",
       "      <td>1.000000e+00</td>\n",
       "      <td>1.000000e+00</td>\n",
       "    </tr>\n",
       "    <tr>\n",
       "      <th>25%</th>\n",
       "      <td>7.700000e+01</td>\n",
       "      <td>7.700000e+01</td>\n",
       "    </tr>\n",
       "    <tr>\n",
       "      <th>50%</th>\n",
       "      <td>1.740000e+02</td>\n",
       "      <td>1.740000e+02</td>\n",
       "    </tr>\n",
       "    <tr>\n",
       "      <th>75%</th>\n",
       "      <td>2.910000e+02</td>\n",
       "      <td>2.910000e+02</td>\n",
       "    </tr>\n",
       "    <tr>\n",
       "      <th>max</th>\n",
       "      <td>6.750000e+02</td>\n",
       "      <td>6.750000e+02</td>\n",
       "    </tr>\n",
       "  </tbody>\n",
       "</table>\n",
       "</div>"
      ],
      "text/plain": [
       "       start_station_id  end_station_id\n",
       "count      3.879821e+06    3.879821e+06\n",
       "mean       2.028971e+02    2.037552e+02\n",
       "std        1.571359e+02    1.571912e+02\n",
       "min        1.000000e+00    1.000000e+00\n",
       "25%        7.700000e+01    7.700000e+01\n",
       "50%        1.740000e+02    1.740000e+02\n",
       "75%        2.910000e+02    2.910000e+02\n",
       "max        6.750000e+02    6.750000e+02"
      ]
     },
     "execution_count": 33,
     "metadata": {},
     "output_type": "execute_result"
    }
   ],
   "source": [
    "all_trips.describe()"
   ]
  },
  {
   "cell_type": "markdown",
   "id": "b7912b00",
   "metadata": {},
   "source": [
    "There are a few problems we will need to fix:\n",
    "(1) In the “member_casual” column, there are two names for members (“member” and “Subscriber”) and two names for casual riders (“Customer” and “casual”). We will need to consolidate that from four to two labels.\n",
    "\n",
    "In the “member_casual” column, replace “Subscriber” with “member” and “Customer” with “casual”\n",
    "\n",
    "Before 2020, Divvy used different labels for these two types of riders … we will want to make our dataframe consistent with their current nomenclature Begin by seeing how many observations fall under each usertype"
   ]
  },
  {
   "cell_type": "code",
   "execution_count": 34,
   "id": "29d18a41",
   "metadata": {},
   "outputs": [
    {
     "data": {
      "text/plain": [
       "Subscriber    2595461\n",
       "Customer       857474\n",
       "member         378407\n",
       "casual          48479\n",
       "Name: member_casual, dtype: int64"
      ]
     },
     "execution_count": 34,
     "metadata": {},
     "output_type": "execute_result"
    }
   ],
   "source": [
    "all_trips.member_casual.value_counts()"
   ]
  },
  {
   "cell_type": "code",
   "execution_count": 35,
   "id": "02c54395",
   "metadata": {},
   "outputs": [],
   "source": [
    "all_trips.member_casual.replace({\"Subscriber\":\"member\",\"Customer\":\"casual\"},inplace=True)"
   ]
  },
  {
   "cell_type": "code",
   "execution_count": 36,
   "id": "68081394",
   "metadata": {},
   "outputs": [
    {
     "data": {
      "text/plain": [
       "member    2973868\n",
       "casual     905953\n",
       "Name: member_casual, dtype: int64"
      ]
     },
     "execution_count": 36,
     "metadata": {},
     "output_type": "execute_result"
    }
   ],
   "source": [
    "all_trips.member_casual.value_counts()"
   ]
  },
  {
   "cell_type": "markdown",
   "id": "c5f3c728",
   "metadata": {},
   "source": [
    "(2) The data can only be aggregated at the ride-level, which is too granular. We will want to add some additional columns of data – such as day, month, year – that provide additional opportunities to aggregate the data.\n",
    "\n",
    "Add columns that list the date, month, day, and year of each ride\n",
    "\n",
    "This will allow us to aggregate ride data for each month, day, or year … before completing these operations we could only aggregate at the ride level"
   ]
  },
  {
   "cell_type": "code",
   "execution_count": 37,
   "id": "14b80457",
   "metadata": {},
   "outputs": [
    {
     "data": {
      "text/html": [
       "<div>\n",
       "<style scoped>\n",
       "    .dataframe tbody tr th:only-of-type {\n",
       "        vertical-align: middle;\n",
       "    }\n",
       "\n",
       "    .dataframe tbody tr th {\n",
       "        vertical-align: top;\n",
       "    }\n",
       "\n",
       "    .dataframe thead th {\n",
       "        text-align: right;\n",
       "    }\n",
       "</style>\n",
       "<table border=\"1\" class=\"dataframe\">\n",
       "  <thead>\n",
       "    <tr style=\"text-align: right;\">\n",
       "      <th></th>\n",
       "      <th>ride_id</th>\n",
       "      <th>started_at</th>\n",
       "      <th>ended_at</th>\n",
       "      <th>rideable_type</th>\n",
       "      <th>start_station_id</th>\n",
       "      <th>start_station_name</th>\n",
       "      <th>end_station_id</th>\n",
       "      <th>end_station_name</th>\n",
       "      <th>member_casual</th>\n",
       "      <th>date</th>\n",
       "    </tr>\n",
       "  </thead>\n",
       "  <tbody>\n",
       "    <tr>\n",
       "      <th>0</th>\n",
       "      <td>22178529</td>\n",
       "      <td>2019-04-01 00:02:22</td>\n",
       "      <td>2019-04-01 00:09:48</td>\n",
       "      <td>6251</td>\n",
       "      <td>81</td>\n",
       "      <td>Daley Center Plaza</td>\n",
       "      <td>56</td>\n",
       "      <td>Desplaines St &amp; Kinzie St</td>\n",
       "      <td>member</td>\n",
       "      <td>2019-04-01</td>\n",
       "    </tr>\n",
       "    <tr>\n",
       "      <th>1</th>\n",
       "      <td>22178530</td>\n",
       "      <td>2019-04-01 00:03:02</td>\n",
       "      <td>2019-04-01 00:20:30</td>\n",
       "      <td>6226</td>\n",
       "      <td>317</td>\n",
       "      <td>Wood St &amp; Taylor St</td>\n",
       "      <td>59</td>\n",
       "      <td>Wabash Ave &amp; Roosevelt Rd</td>\n",
       "      <td>member</td>\n",
       "      <td>2019-04-01</td>\n",
       "    </tr>\n",
       "    <tr>\n",
       "      <th>2</th>\n",
       "      <td>22178531</td>\n",
       "      <td>2019-04-01 00:11:07</td>\n",
       "      <td>2019-04-01 00:15:19</td>\n",
       "      <td>5649</td>\n",
       "      <td>283</td>\n",
       "      <td>LaSalle St &amp; Jackson Blvd</td>\n",
       "      <td>174</td>\n",
       "      <td>Canal St &amp; Madison St</td>\n",
       "      <td>member</td>\n",
       "      <td>2019-04-01</td>\n",
       "    </tr>\n",
       "    <tr>\n",
       "      <th>3</th>\n",
       "      <td>22178532</td>\n",
       "      <td>2019-04-01 00:13:01</td>\n",
       "      <td>2019-04-01 00:18:58</td>\n",
       "      <td>4151</td>\n",
       "      <td>26</td>\n",
       "      <td>McClurg Ct &amp; Illinois St</td>\n",
       "      <td>133</td>\n",
       "      <td>Kingsbury St &amp; Kinzie St</td>\n",
       "      <td>member</td>\n",
       "      <td>2019-04-01</td>\n",
       "    </tr>\n",
       "    <tr>\n",
       "      <th>4</th>\n",
       "      <td>22178533</td>\n",
       "      <td>2019-04-01 00:19:26</td>\n",
       "      <td>2019-04-01 00:36:13</td>\n",
       "      <td>3270</td>\n",
       "      <td>202</td>\n",
       "      <td>Halsted St &amp; 18th St</td>\n",
       "      <td>129</td>\n",
       "      <td>Blue Island Ave &amp; 18th St</td>\n",
       "      <td>member</td>\n",
       "      <td>2019-04-01</td>\n",
       "    </tr>\n",
       "  </tbody>\n",
       "</table>\n",
       "</div>"
      ],
      "text/plain": [
       "    ride_id          started_at            ended_at rideable_type  \\\n",
       "0  22178529 2019-04-01 00:02:22 2019-04-01 00:09:48          6251   \n",
       "1  22178530 2019-04-01 00:03:02 2019-04-01 00:20:30          6226   \n",
       "2  22178531 2019-04-01 00:11:07 2019-04-01 00:15:19          5649   \n",
       "3  22178532 2019-04-01 00:13:01 2019-04-01 00:18:58          4151   \n",
       "4  22178533 2019-04-01 00:19:26 2019-04-01 00:36:13          3270   \n",
       "\n",
       "   start_station_id         start_station_name  end_station_id  \\\n",
       "0                81         Daley Center Plaza              56   \n",
       "1               317        Wood St & Taylor St              59   \n",
       "2               283  LaSalle St & Jackson Blvd             174   \n",
       "3                26   McClurg Ct & Illinois St             133   \n",
       "4               202       Halsted St & 18th St             129   \n",
       "\n",
       "            end_station_name member_casual        date  \n",
       "0  Desplaines St & Kinzie St        member  2019-04-01  \n",
       "1  Wabash Ave & Roosevelt Rd        member  2019-04-01  \n",
       "2      Canal St & Madison St        member  2019-04-01  \n",
       "3   Kingsbury St & Kinzie St        member  2019-04-01  \n",
       "4  Blue Island Ave & 18th St        member  2019-04-01  "
      ]
     },
     "execution_count": 37,
     "metadata": {},
     "output_type": "execute_result"
    }
   ],
   "source": [
    "all_trips['date'] = pd.to_datetime(all_trips.started_at).dt.date\n",
    "all_trips.head()"
   ]
  },
  {
   "cell_type": "code",
   "execution_count": 38,
   "id": "c6136b92",
   "metadata": {},
   "outputs": [
    {
     "data": {
      "text/html": [
       "<div>\n",
       "<style scoped>\n",
       "    .dataframe tbody tr th:only-of-type {\n",
       "        vertical-align: middle;\n",
       "    }\n",
       "\n",
       "    .dataframe tbody tr th {\n",
       "        vertical-align: top;\n",
       "    }\n",
       "\n",
       "    .dataframe thead th {\n",
       "        text-align: right;\n",
       "    }\n",
       "</style>\n",
       "<table border=\"1\" class=\"dataframe\">\n",
       "  <thead>\n",
       "    <tr style=\"text-align: right;\">\n",
       "      <th></th>\n",
       "      <th>ride_id</th>\n",
       "      <th>started_at</th>\n",
       "      <th>ended_at</th>\n",
       "      <th>rideable_type</th>\n",
       "      <th>start_station_id</th>\n",
       "      <th>start_station_name</th>\n",
       "      <th>end_station_id</th>\n",
       "      <th>end_station_name</th>\n",
       "      <th>member_casual</th>\n",
       "      <th>date</th>\n",
       "      <th>day</th>\n",
       "    </tr>\n",
       "  </thead>\n",
       "  <tbody>\n",
       "    <tr>\n",
       "      <th>0</th>\n",
       "      <td>22178529</td>\n",
       "      <td>2019-04-01 00:02:22</td>\n",
       "      <td>2019-04-01 00:09:48</td>\n",
       "      <td>6251</td>\n",
       "      <td>81</td>\n",
       "      <td>Daley Center Plaza</td>\n",
       "      <td>56</td>\n",
       "      <td>Desplaines St &amp; Kinzie St</td>\n",
       "      <td>member</td>\n",
       "      <td>2019-04-01</td>\n",
       "      <td>1</td>\n",
       "    </tr>\n",
       "    <tr>\n",
       "      <th>1</th>\n",
       "      <td>22178530</td>\n",
       "      <td>2019-04-01 00:03:02</td>\n",
       "      <td>2019-04-01 00:20:30</td>\n",
       "      <td>6226</td>\n",
       "      <td>317</td>\n",
       "      <td>Wood St &amp; Taylor St</td>\n",
       "      <td>59</td>\n",
       "      <td>Wabash Ave &amp; Roosevelt Rd</td>\n",
       "      <td>member</td>\n",
       "      <td>2019-04-01</td>\n",
       "      <td>1</td>\n",
       "    </tr>\n",
       "    <tr>\n",
       "      <th>2</th>\n",
       "      <td>22178531</td>\n",
       "      <td>2019-04-01 00:11:07</td>\n",
       "      <td>2019-04-01 00:15:19</td>\n",
       "      <td>5649</td>\n",
       "      <td>283</td>\n",
       "      <td>LaSalle St &amp; Jackson Blvd</td>\n",
       "      <td>174</td>\n",
       "      <td>Canal St &amp; Madison St</td>\n",
       "      <td>member</td>\n",
       "      <td>2019-04-01</td>\n",
       "      <td>1</td>\n",
       "    </tr>\n",
       "    <tr>\n",
       "      <th>3</th>\n",
       "      <td>22178532</td>\n",
       "      <td>2019-04-01 00:13:01</td>\n",
       "      <td>2019-04-01 00:18:58</td>\n",
       "      <td>4151</td>\n",
       "      <td>26</td>\n",
       "      <td>McClurg Ct &amp; Illinois St</td>\n",
       "      <td>133</td>\n",
       "      <td>Kingsbury St &amp; Kinzie St</td>\n",
       "      <td>member</td>\n",
       "      <td>2019-04-01</td>\n",
       "      <td>1</td>\n",
       "    </tr>\n",
       "    <tr>\n",
       "      <th>4</th>\n",
       "      <td>22178533</td>\n",
       "      <td>2019-04-01 00:19:26</td>\n",
       "      <td>2019-04-01 00:36:13</td>\n",
       "      <td>3270</td>\n",
       "      <td>202</td>\n",
       "      <td>Halsted St &amp; 18th St</td>\n",
       "      <td>129</td>\n",
       "      <td>Blue Island Ave &amp; 18th St</td>\n",
       "      <td>member</td>\n",
       "      <td>2019-04-01</td>\n",
       "      <td>1</td>\n",
       "    </tr>\n",
       "  </tbody>\n",
       "</table>\n",
       "</div>"
      ],
      "text/plain": [
       "    ride_id          started_at            ended_at rideable_type  \\\n",
       "0  22178529 2019-04-01 00:02:22 2019-04-01 00:09:48          6251   \n",
       "1  22178530 2019-04-01 00:03:02 2019-04-01 00:20:30          6226   \n",
       "2  22178531 2019-04-01 00:11:07 2019-04-01 00:15:19          5649   \n",
       "3  22178532 2019-04-01 00:13:01 2019-04-01 00:18:58          4151   \n",
       "4  22178533 2019-04-01 00:19:26 2019-04-01 00:36:13          3270   \n",
       "\n",
       "   start_station_id         start_station_name  end_station_id  \\\n",
       "0                81         Daley Center Plaza              56   \n",
       "1               317        Wood St & Taylor St              59   \n",
       "2               283  LaSalle St & Jackson Blvd             174   \n",
       "3                26   McClurg Ct & Illinois St             133   \n",
       "4               202       Halsted St & 18th St             129   \n",
       "\n",
       "            end_station_name member_casual        date  day  \n",
       "0  Desplaines St & Kinzie St        member  2019-04-01    1  \n",
       "1  Wabash Ave & Roosevelt Rd        member  2019-04-01    1  \n",
       "2      Canal St & Madison St        member  2019-04-01    1  \n",
       "3   Kingsbury St & Kinzie St        member  2019-04-01    1  \n",
       "4  Blue Island Ave & 18th St        member  2019-04-01    1  "
      ]
     },
     "execution_count": 38,
     "metadata": {},
     "output_type": "execute_result"
    }
   ],
   "source": [
    "all_trips['day'] = pd.to_datetime(all_trips.date).dt.day\n",
    "all_trips.head()"
   ]
  },
  {
   "cell_type": "code",
   "execution_count": 39,
   "id": "df44a2b0",
   "metadata": {},
   "outputs": [
    {
     "data": {
      "text/html": [
       "<div>\n",
       "<style scoped>\n",
       "    .dataframe tbody tr th:only-of-type {\n",
       "        vertical-align: middle;\n",
       "    }\n",
       "\n",
       "    .dataframe tbody tr th {\n",
       "        vertical-align: top;\n",
       "    }\n",
       "\n",
       "    .dataframe thead th {\n",
       "        text-align: right;\n",
       "    }\n",
       "</style>\n",
       "<table border=\"1\" class=\"dataframe\">\n",
       "  <thead>\n",
       "    <tr style=\"text-align: right;\">\n",
       "      <th></th>\n",
       "      <th>ride_id</th>\n",
       "      <th>started_at</th>\n",
       "      <th>ended_at</th>\n",
       "      <th>rideable_type</th>\n",
       "      <th>start_station_id</th>\n",
       "      <th>start_station_name</th>\n",
       "      <th>end_station_id</th>\n",
       "      <th>end_station_name</th>\n",
       "      <th>member_casual</th>\n",
       "      <th>date</th>\n",
       "      <th>day</th>\n",
       "      <th>month</th>\n",
       "    </tr>\n",
       "  </thead>\n",
       "  <tbody>\n",
       "    <tr>\n",
       "      <th>0</th>\n",
       "      <td>22178529</td>\n",
       "      <td>2019-04-01 00:02:22</td>\n",
       "      <td>2019-04-01 00:09:48</td>\n",
       "      <td>6251</td>\n",
       "      <td>81</td>\n",
       "      <td>Daley Center Plaza</td>\n",
       "      <td>56</td>\n",
       "      <td>Desplaines St &amp; Kinzie St</td>\n",
       "      <td>member</td>\n",
       "      <td>2019-04-01</td>\n",
       "      <td>1</td>\n",
       "      <td>4</td>\n",
       "    </tr>\n",
       "    <tr>\n",
       "      <th>1</th>\n",
       "      <td>22178530</td>\n",
       "      <td>2019-04-01 00:03:02</td>\n",
       "      <td>2019-04-01 00:20:30</td>\n",
       "      <td>6226</td>\n",
       "      <td>317</td>\n",
       "      <td>Wood St &amp; Taylor St</td>\n",
       "      <td>59</td>\n",
       "      <td>Wabash Ave &amp; Roosevelt Rd</td>\n",
       "      <td>member</td>\n",
       "      <td>2019-04-01</td>\n",
       "      <td>1</td>\n",
       "      <td>4</td>\n",
       "    </tr>\n",
       "    <tr>\n",
       "      <th>2</th>\n",
       "      <td>22178531</td>\n",
       "      <td>2019-04-01 00:11:07</td>\n",
       "      <td>2019-04-01 00:15:19</td>\n",
       "      <td>5649</td>\n",
       "      <td>283</td>\n",
       "      <td>LaSalle St &amp; Jackson Blvd</td>\n",
       "      <td>174</td>\n",
       "      <td>Canal St &amp; Madison St</td>\n",
       "      <td>member</td>\n",
       "      <td>2019-04-01</td>\n",
       "      <td>1</td>\n",
       "      <td>4</td>\n",
       "    </tr>\n",
       "    <tr>\n",
       "      <th>3</th>\n",
       "      <td>22178532</td>\n",
       "      <td>2019-04-01 00:13:01</td>\n",
       "      <td>2019-04-01 00:18:58</td>\n",
       "      <td>4151</td>\n",
       "      <td>26</td>\n",
       "      <td>McClurg Ct &amp; Illinois St</td>\n",
       "      <td>133</td>\n",
       "      <td>Kingsbury St &amp; Kinzie St</td>\n",
       "      <td>member</td>\n",
       "      <td>2019-04-01</td>\n",
       "      <td>1</td>\n",
       "      <td>4</td>\n",
       "    </tr>\n",
       "    <tr>\n",
       "      <th>4</th>\n",
       "      <td>22178533</td>\n",
       "      <td>2019-04-01 00:19:26</td>\n",
       "      <td>2019-04-01 00:36:13</td>\n",
       "      <td>3270</td>\n",
       "      <td>202</td>\n",
       "      <td>Halsted St &amp; 18th St</td>\n",
       "      <td>129</td>\n",
       "      <td>Blue Island Ave &amp; 18th St</td>\n",
       "      <td>member</td>\n",
       "      <td>2019-04-01</td>\n",
       "      <td>1</td>\n",
       "      <td>4</td>\n",
       "    </tr>\n",
       "  </tbody>\n",
       "</table>\n",
       "</div>"
      ],
      "text/plain": [
       "    ride_id          started_at            ended_at rideable_type  \\\n",
       "0  22178529 2019-04-01 00:02:22 2019-04-01 00:09:48          6251   \n",
       "1  22178530 2019-04-01 00:03:02 2019-04-01 00:20:30          6226   \n",
       "2  22178531 2019-04-01 00:11:07 2019-04-01 00:15:19          5649   \n",
       "3  22178532 2019-04-01 00:13:01 2019-04-01 00:18:58          4151   \n",
       "4  22178533 2019-04-01 00:19:26 2019-04-01 00:36:13          3270   \n",
       "\n",
       "   start_station_id         start_station_name  end_station_id  \\\n",
       "0                81         Daley Center Plaza              56   \n",
       "1               317        Wood St & Taylor St              59   \n",
       "2               283  LaSalle St & Jackson Blvd             174   \n",
       "3                26   McClurg Ct & Illinois St             133   \n",
       "4               202       Halsted St & 18th St             129   \n",
       "\n",
       "            end_station_name member_casual        date  day  month  \n",
       "0  Desplaines St & Kinzie St        member  2019-04-01    1      4  \n",
       "1  Wabash Ave & Roosevelt Rd        member  2019-04-01    1      4  \n",
       "2      Canal St & Madison St        member  2019-04-01    1      4  \n",
       "3   Kingsbury St & Kinzie St        member  2019-04-01    1      4  \n",
       "4  Blue Island Ave & 18th St        member  2019-04-01    1      4  "
      ]
     },
     "execution_count": 39,
     "metadata": {},
     "output_type": "execute_result"
    }
   ],
   "source": [
    "all_trips['month'] = pd.to_datetime(all_trips.date).dt.month\n",
    "all_trips.head()"
   ]
  },
  {
   "cell_type": "code",
   "execution_count": 40,
   "id": "b6f4e8a0",
   "metadata": {},
   "outputs": [
    {
     "data": {
      "text/html": [
       "<div>\n",
       "<style scoped>\n",
       "    .dataframe tbody tr th:only-of-type {\n",
       "        vertical-align: middle;\n",
       "    }\n",
       "\n",
       "    .dataframe tbody tr th {\n",
       "        vertical-align: top;\n",
       "    }\n",
       "\n",
       "    .dataframe thead th {\n",
       "        text-align: right;\n",
       "    }\n",
       "</style>\n",
       "<table border=\"1\" class=\"dataframe\">\n",
       "  <thead>\n",
       "    <tr style=\"text-align: right;\">\n",
       "      <th></th>\n",
       "      <th>ride_id</th>\n",
       "      <th>started_at</th>\n",
       "      <th>ended_at</th>\n",
       "      <th>rideable_type</th>\n",
       "      <th>start_station_id</th>\n",
       "      <th>start_station_name</th>\n",
       "      <th>end_station_id</th>\n",
       "      <th>end_station_name</th>\n",
       "      <th>member_casual</th>\n",
       "      <th>date</th>\n",
       "      <th>day</th>\n",
       "      <th>month</th>\n",
       "      <th>year</th>\n",
       "    </tr>\n",
       "  </thead>\n",
       "  <tbody>\n",
       "    <tr>\n",
       "      <th>0</th>\n",
       "      <td>22178529</td>\n",
       "      <td>2019-04-01 00:02:22</td>\n",
       "      <td>2019-04-01 00:09:48</td>\n",
       "      <td>6251</td>\n",
       "      <td>81</td>\n",
       "      <td>Daley Center Plaza</td>\n",
       "      <td>56</td>\n",
       "      <td>Desplaines St &amp; Kinzie St</td>\n",
       "      <td>member</td>\n",
       "      <td>2019-04-01</td>\n",
       "      <td>1</td>\n",
       "      <td>4</td>\n",
       "      <td>2019</td>\n",
       "    </tr>\n",
       "    <tr>\n",
       "      <th>1</th>\n",
       "      <td>22178530</td>\n",
       "      <td>2019-04-01 00:03:02</td>\n",
       "      <td>2019-04-01 00:20:30</td>\n",
       "      <td>6226</td>\n",
       "      <td>317</td>\n",
       "      <td>Wood St &amp; Taylor St</td>\n",
       "      <td>59</td>\n",
       "      <td>Wabash Ave &amp; Roosevelt Rd</td>\n",
       "      <td>member</td>\n",
       "      <td>2019-04-01</td>\n",
       "      <td>1</td>\n",
       "      <td>4</td>\n",
       "      <td>2019</td>\n",
       "    </tr>\n",
       "    <tr>\n",
       "      <th>2</th>\n",
       "      <td>22178531</td>\n",
       "      <td>2019-04-01 00:11:07</td>\n",
       "      <td>2019-04-01 00:15:19</td>\n",
       "      <td>5649</td>\n",
       "      <td>283</td>\n",
       "      <td>LaSalle St &amp; Jackson Blvd</td>\n",
       "      <td>174</td>\n",
       "      <td>Canal St &amp; Madison St</td>\n",
       "      <td>member</td>\n",
       "      <td>2019-04-01</td>\n",
       "      <td>1</td>\n",
       "      <td>4</td>\n",
       "      <td>2019</td>\n",
       "    </tr>\n",
       "    <tr>\n",
       "      <th>3</th>\n",
       "      <td>22178532</td>\n",
       "      <td>2019-04-01 00:13:01</td>\n",
       "      <td>2019-04-01 00:18:58</td>\n",
       "      <td>4151</td>\n",
       "      <td>26</td>\n",
       "      <td>McClurg Ct &amp; Illinois St</td>\n",
       "      <td>133</td>\n",
       "      <td>Kingsbury St &amp; Kinzie St</td>\n",
       "      <td>member</td>\n",
       "      <td>2019-04-01</td>\n",
       "      <td>1</td>\n",
       "      <td>4</td>\n",
       "      <td>2019</td>\n",
       "    </tr>\n",
       "    <tr>\n",
       "      <th>4</th>\n",
       "      <td>22178533</td>\n",
       "      <td>2019-04-01 00:19:26</td>\n",
       "      <td>2019-04-01 00:36:13</td>\n",
       "      <td>3270</td>\n",
       "      <td>202</td>\n",
       "      <td>Halsted St &amp; 18th St</td>\n",
       "      <td>129</td>\n",
       "      <td>Blue Island Ave &amp; 18th St</td>\n",
       "      <td>member</td>\n",
       "      <td>2019-04-01</td>\n",
       "      <td>1</td>\n",
       "      <td>4</td>\n",
       "      <td>2019</td>\n",
       "    </tr>\n",
       "  </tbody>\n",
       "</table>\n",
       "</div>"
      ],
      "text/plain": [
       "    ride_id          started_at            ended_at rideable_type  \\\n",
       "0  22178529 2019-04-01 00:02:22 2019-04-01 00:09:48          6251   \n",
       "1  22178530 2019-04-01 00:03:02 2019-04-01 00:20:30          6226   \n",
       "2  22178531 2019-04-01 00:11:07 2019-04-01 00:15:19          5649   \n",
       "3  22178532 2019-04-01 00:13:01 2019-04-01 00:18:58          4151   \n",
       "4  22178533 2019-04-01 00:19:26 2019-04-01 00:36:13          3270   \n",
       "\n",
       "   start_station_id         start_station_name  end_station_id  \\\n",
       "0                81         Daley Center Plaza              56   \n",
       "1               317        Wood St & Taylor St              59   \n",
       "2               283  LaSalle St & Jackson Blvd             174   \n",
       "3                26   McClurg Ct & Illinois St             133   \n",
       "4               202       Halsted St & 18th St             129   \n",
       "\n",
       "            end_station_name member_casual        date  day  month  year  \n",
       "0  Desplaines St & Kinzie St        member  2019-04-01    1      4  2019  \n",
       "1  Wabash Ave & Roosevelt Rd        member  2019-04-01    1      4  2019  \n",
       "2      Canal St & Madison St        member  2019-04-01    1      4  2019  \n",
       "3   Kingsbury St & Kinzie St        member  2019-04-01    1      4  2019  \n",
       "4  Blue Island Ave & 18th St        member  2019-04-01    1      4  2019  "
      ]
     },
     "execution_count": 40,
     "metadata": {},
     "output_type": "execute_result"
    }
   ],
   "source": [
    "all_trips['year'] = pd.to_datetime(all_trips.date).dt.year\n",
    "all_trips.head()"
   ]
  },
  {
   "cell_type": "code",
   "execution_count": 41,
   "id": "3d6347a7",
   "metadata": {},
   "outputs": [
    {
     "data": {
      "text/html": [
       "<div>\n",
       "<style scoped>\n",
       "    .dataframe tbody tr th:only-of-type {\n",
       "        vertical-align: middle;\n",
       "    }\n",
       "\n",
       "    .dataframe tbody tr th {\n",
       "        vertical-align: top;\n",
       "    }\n",
       "\n",
       "    .dataframe thead th {\n",
       "        text-align: right;\n",
       "    }\n",
       "</style>\n",
       "<table border=\"1\" class=\"dataframe\">\n",
       "  <thead>\n",
       "    <tr style=\"text-align: right;\">\n",
       "      <th></th>\n",
       "      <th>ride_id</th>\n",
       "      <th>started_at</th>\n",
       "      <th>ended_at</th>\n",
       "      <th>rideable_type</th>\n",
       "      <th>start_station_id</th>\n",
       "      <th>start_station_name</th>\n",
       "      <th>end_station_id</th>\n",
       "      <th>end_station_name</th>\n",
       "      <th>member_casual</th>\n",
       "      <th>date</th>\n",
       "      <th>day</th>\n",
       "      <th>month</th>\n",
       "      <th>year</th>\n",
       "      <th>day_of_week</th>\n",
       "    </tr>\n",
       "  </thead>\n",
       "  <tbody>\n",
       "    <tr>\n",
       "      <th>0</th>\n",
       "      <td>22178529</td>\n",
       "      <td>2019-04-01 00:02:22</td>\n",
       "      <td>2019-04-01 00:09:48</td>\n",
       "      <td>6251</td>\n",
       "      <td>81</td>\n",
       "      <td>Daley Center Plaza</td>\n",
       "      <td>56</td>\n",
       "      <td>Desplaines St &amp; Kinzie St</td>\n",
       "      <td>member</td>\n",
       "      <td>2019-04-01</td>\n",
       "      <td>1</td>\n",
       "      <td>4</td>\n",
       "      <td>2019</td>\n",
       "      <td>Monday</td>\n",
       "    </tr>\n",
       "    <tr>\n",
       "      <th>1</th>\n",
       "      <td>22178530</td>\n",
       "      <td>2019-04-01 00:03:02</td>\n",
       "      <td>2019-04-01 00:20:30</td>\n",
       "      <td>6226</td>\n",
       "      <td>317</td>\n",
       "      <td>Wood St &amp; Taylor St</td>\n",
       "      <td>59</td>\n",
       "      <td>Wabash Ave &amp; Roosevelt Rd</td>\n",
       "      <td>member</td>\n",
       "      <td>2019-04-01</td>\n",
       "      <td>1</td>\n",
       "      <td>4</td>\n",
       "      <td>2019</td>\n",
       "      <td>Monday</td>\n",
       "    </tr>\n",
       "    <tr>\n",
       "      <th>2</th>\n",
       "      <td>22178531</td>\n",
       "      <td>2019-04-01 00:11:07</td>\n",
       "      <td>2019-04-01 00:15:19</td>\n",
       "      <td>5649</td>\n",
       "      <td>283</td>\n",
       "      <td>LaSalle St &amp; Jackson Blvd</td>\n",
       "      <td>174</td>\n",
       "      <td>Canal St &amp; Madison St</td>\n",
       "      <td>member</td>\n",
       "      <td>2019-04-01</td>\n",
       "      <td>1</td>\n",
       "      <td>4</td>\n",
       "      <td>2019</td>\n",
       "      <td>Monday</td>\n",
       "    </tr>\n",
       "    <tr>\n",
       "      <th>3</th>\n",
       "      <td>22178532</td>\n",
       "      <td>2019-04-01 00:13:01</td>\n",
       "      <td>2019-04-01 00:18:58</td>\n",
       "      <td>4151</td>\n",
       "      <td>26</td>\n",
       "      <td>McClurg Ct &amp; Illinois St</td>\n",
       "      <td>133</td>\n",
       "      <td>Kingsbury St &amp; Kinzie St</td>\n",
       "      <td>member</td>\n",
       "      <td>2019-04-01</td>\n",
       "      <td>1</td>\n",
       "      <td>4</td>\n",
       "      <td>2019</td>\n",
       "      <td>Monday</td>\n",
       "    </tr>\n",
       "    <tr>\n",
       "      <th>4</th>\n",
       "      <td>22178533</td>\n",
       "      <td>2019-04-01 00:19:26</td>\n",
       "      <td>2019-04-01 00:36:13</td>\n",
       "      <td>3270</td>\n",
       "      <td>202</td>\n",
       "      <td>Halsted St &amp; 18th St</td>\n",
       "      <td>129</td>\n",
       "      <td>Blue Island Ave &amp; 18th St</td>\n",
       "      <td>member</td>\n",
       "      <td>2019-04-01</td>\n",
       "      <td>1</td>\n",
       "      <td>4</td>\n",
       "      <td>2019</td>\n",
       "      <td>Monday</td>\n",
       "    </tr>\n",
       "  </tbody>\n",
       "</table>\n",
       "</div>"
      ],
      "text/plain": [
       "    ride_id          started_at            ended_at rideable_type  \\\n",
       "0  22178529 2019-04-01 00:02:22 2019-04-01 00:09:48          6251   \n",
       "1  22178530 2019-04-01 00:03:02 2019-04-01 00:20:30          6226   \n",
       "2  22178531 2019-04-01 00:11:07 2019-04-01 00:15:19          5649   \n",
       "3  22178532 2019-04-01 00:13:01 2019-04-01 00:18:58          4151   \n",
       "4  22178533 2019-04-01 00:19:26 2019-04-01 00:36:13          3270   \n",
       "\n",
       "   start_station_id         start_station_name  end_station_id  \\\n",
       "0                81         Daley Center Plaza              56   \n",
       "1               317        Wood St & Taylor St              59   \n",
       "2               283  LaSalle St & Jackson Blvd             174   \n",
       "3                26   McClurg Ct & Illinois St             133   \n",
       "4               202       Halsted St & 18th St             129   \n",
       "\n",
       "            end_station_name member_casual        date  day  month  year  \\\n",
       "0  Desplaines St & Kinzie St        member  2019-04-01    1      4  2019   \n",
       "1  Wabash Ave & Roosevelt Rd        member  2019-04-01    1      4  2019   \n",
       "2      Canal St & Madison St        member  2019-04-01    1      4  2019   \n",
       "3   Kingsbury St & Kinzie St        member  2019-04-01    1      4  2019   \n",
       "4  Blue Island Ave & 18th St        member  2019-04-01    1      4  2019   \n",
       "\n",
       "  day_of_week  \n",
       "0      Monday  \n",
       "1      Monday  \n",
       "2      Monday  \n",
       "3      Monday  \n",
       "4      Monday  "
      ]
     },
     "execution_count": 41,
     "metadata": {},
     "output_type": "execute_result"
    }
   ],
   "source": [
    "all_trips['day_of_week'] = pd.to_datetime(all_trips['date']).dt.day_name()\n",
    "all_trips.head()"
   ]
  },
  {
   "cell_type": "markdown",
   "id": "6333f0f4",
   "metadata": {},
   "source": [
    "Add a “ride_length” calculation to all_trips (in seconds)"
   ]
  },
  {
   "cell_type": "code",
   "execution_count": 42,
   "id": "449c591b",
   "metadata": {},
   "outputs": [
    {
     "data": {
      "text/html": [
       "<div>\n",
       "<style scoped>\n",
       "    .dataframe tbody tr th:only-of-type {\n",
       "        vertical-align: middle;\n",
       "    }\n",
       "\n",
       "    .dataframe tbody tr th {\n",
       "        vertical-align: top;\n",
       "    }\n",
       "\n",
       "    .dataframe thead th {\n",
       "        text-align: right;\n",
       "    }\n",
       "</style>\n",
       "<table border=\"1\" class=\"dataframe\">\n",
       "  <thead>\n",
       "    <tr style=\"text-align: right;\">\n",
       "      <th></th>\n",
       "      <th>ride_id</th>\n",
       "      <th>started_at</th>\n",
       "      <th>ended_at</th>\n",
       "      <th>rideable_type</th>\n",
       "      <th>start_station_id</th>\n",
       "      <th>start_station_name</th>\n",
       "      <th>end_station_id</th>\n",
       "      <th>end_station_name</th>\n",
       "      <th>member_casual</th>\n",
       "      <th>date</th>\n",
       "      <th>day</th>\n",
       "      <th>month</th>\n",
       "      <th>year</th>\n",
       "      <th>day_of_week</th>\n",
       "      <th>ride_length</th>\n",
       "    </tr>\n",
       "  </thead>\n",
       "  <tbody>\n",
       "    <tr>\n",
       "      <th>0</th>\n",
       "      <td>22178529</td>\n",
       "      <td>2019-04-01 00:02:22</td>\n",
       "      <td>2019-04-01 00:09:48</td>\n",
       "      <td>6251</td>\n",
       "      <td>81</td>\n",
       "      <td>Daley Center Plaza</td>\n",
       "      <td>56</td>\n",
       "      <td>Desplaines St &amp; Kinzie St</td>\n",
       "      <td>member</td>\n",
       "      <td>2019-04-01</td>\n",
       "      <td>1</td>\n",
       "      <td>4</td>\n",
       "      <td>2019</td>\n",
       "      <td>Monday</td>\n",
       "      <td>446.0</td>\n",
       "    </tr>\n",
       "    <tr>\n",
       "      <th>1</th>\n",
       "      <td>22178530</td>\n",
       "      <td>2019-04-01 00:03:02</td>\n",
       "      <td>2019-04-01 00:20:30</td>\n",
       "      <td>6226</td>\n",
       "      <td>317</td>\n",
       "      <td>Wood St &amp; Taylor St</td>\n",
       "      <td>59</td>\n",
       "      <td>Wabash Ave &amp; Roosevelt Rd</td>\n",
       "      <td>member</td>\n",
       "      <td>2019-04-01</td>\n",
       "      <td>1</td>\n",
       "      <td>4</td>\n",
       "      <td>2019</td>\n",
       "      <td>Monday</td>\n",
       "      <td>1048.0</td>\n",
       "    </tr>\n",
       "    <tr>\n",
       "      <th>2</th>\n",
       "      <td>22178531</td>\n",
       "      <td>2019-04-01 00:11:07</td>\n",
       "      <td>2019-04-01 00:15:19</td>\n",
       "      <td>5649</td>\n",
       "      <td>283</td>\n",
       "      <td>LaSalle St &amp; Jackson Blvd</td>\n",
       "      <td>174</td>\n",
       "      <td>Canal St &amp; Madison St</td>\n",
       "      <td>member</td>\n",
       "      <td>2019-04-01</td>\n",
       "      <td>1</td>\n",
       "      <td>4</td>\n",
       "      <td>2019</td>\n",
       "      <td>Monday</td>\n",
       "      <td>252.0</td>\n",
       "    </tr>\n",
       "    <tr>\n",
       "      <th>3</th>\n",
       "      <td>22178532</td>\n",
       "      <td>2019-04-01 00:13:01</td>\n",
       "      <td>2019-04-01 00:18:58</td>\n",
       "      <td>4151</td>\n",
       "      <td>26</td>\n",
       "      <td>McClurg Ct &amp; Illinois St</td>\n",
       "      <td>133</td>\n",
       "      <td>Kingsbury St &amp; Kinzie St</td>\n",
       "      <td>member</td>\n",
       "      <td>2019-04-01</td>\n",
       "      <td>1</td>\n",
       "      <td>4</td>\n",
       "      <td>2019</td>\n",
       "      <td>Monday</td>\n",
       "      <td>357.0</td>\n",
       "    </tr>\n",
       "    <tr>\n",
       "      <th>4</th>\n",
       "      <td>22178533</td>\n",
       "      <td>2019-04-01 00:19:26</td>\n",
       "      <td>2019-04-01 00:36:13</td>\n",
       "      <td>3270</td>\n",
       "      <td>202</td>\n",
       "      <td>Halsted St &amp; 18th St</td>\n",
       "      <td>129</td>\n",
       "      <td>Blue Island Ave &amp; 18th St</td>\n",
       "      <td>member</td>\n",
       "      <td>2019-04-01</td>\n",
       "      <td>1</td>\n",
       "      <td>4</td>\n",
       "      <td>2019</td>\n",
       "      <td>Monday</td>\n",
       "      <td>1007.0</td>\n",
       "    </tr>\n",
       "  </tbody>\n",
       "</table>\n",
       "</div>"
      ],
      "text/plain": [
       "    ride_id          started_at            ended_at rideable_type  \\\n",
       "0  22178529 2019-04-01 00:02:22 2019-04-01 00:09:48          6251   \n",
       "1  22178530 2019-04-01 00:03:02 2019-04-01 00:20:30          6226   \n",
       "2  22178531 2019-04-01 00:11:07 2019-04-01 00:15:19          5649   \n",
       "3  22178532 2019-04-01 00:13:01 2019-04-01 00:18:58          4151   \n",
       "4  22178533 2019-04-01 00:19:26 2019-04-01 00:36:13          3270   \n",
       "\n",
       "   start_station_id         start_station_name  end_station_id  \\\n",
       "0                81         Daley Center Plaza              56   \n",
       "1               317        Wood St & Taylor St              59   \n",
       "2               283  LaSalle St & Jackson Blvd             174   \n",
       "3                26   McClurg Ct & Illinois St             133   \n",
       "4               202       Halsted St & 18th St             129   \n",
       "\n",
       "            end_station_name member_casual        date  day  month  year  \\\n",
       "0  Desplaines St & Kinzie St        member  2019-04-01    1      4  2019   \n",
       "1  Wabash Ave & Roosevelt Rd        member  2019-04-01    1      4  2019   \n",
       "2      Canal St & Madison St        member  2019-04-01    1      4  2019   \n",
       "3   Kingsbury St & Kinzie St        member  2019-04-01    1      4  2019   \n",
       "4  Blue Island Ave & 18th St        member  2019-04-01    1      4  2019   \n",
       "\n",
       "  day_of_week  ride_length  \n",
       "0      Monday        446.0  \n",
       "1      Monday       1048.0  \n",
       "2      Monday        252.0  \n",
       "3      Monday        357.0  \n",
       "4      Monday       1007.0  "
      ]
     },
     "execution_count": 42,
     "metadata": {},
     "output_type": "execute_result"
    }
   ],
   "source": [
    "import datetime as dt\n",
    "\n",
    "all_trips['ride_length'] = (pd.to_datetime(all_trips.ended_at) - pd.to_datetime(all_trips.started_at)).dt.total_seconds()\n",
    "all_trips.head()"
   ]
  },
  {
   "cell_type": "code",
   "execution_count": 43,
   "id": "fe94661c",
   "metadata": {},
   "outputs": [
    {
     "name": "stdout",
     "output_type": "stream",
     "text": [
      "<class 'pandas.core.frame.DataFrame'>\n",
      "RangeIndex: 3879821 entries, 0 to 3879820\n",
      "Data columns (total 15 columns):\n",
      " #   Column              Dtype         \n",
      "---  ------              -----         \n",
      " 0   ride_id             object        \n",
      " 1   started_at          datetime64[ns]\n",
      " 2   ended_at            datetime64[ns]\n",
      " 3   rideable_type       object        \n",
      " 4   start_station_id    int64         \n",
      " 5   start_station_name  object        \n",
      " 6   end_station_id      int64         \n",
      " 7   end_station_name    object        \n",
      " 8   member_casual       object        \n",
      " 9   date                object        \n",
      " 10  day                 int64         \n",
      " 11  month               int64         \n",
      " 12  year                int64         \n",
      " 13  day_of_week         object        \n",
      " 14  ride_length         float64       \n",
      "dtypes: datetime64[ns](2), float64(1), int64(5), object(7)\n",
      "memory usage: 444.0+ MB\n"
     ]
    }
   ],
   "source": [
    "all_trips.info()"
   ]
  },
  {
   "cell_type": "markdown",
   "id": "301b5fda",
   "metadata": {},
   "source": [
    "Let's convert “ride_length” to int64 so we can run calculations on the data"
   ]
  },
  {
   "cell_type": "code",
   "execution_count": 44,
   "id": "a5a79faf",
   "metadata": {},
   "outputs": [
    {
     "name": "stdout",
     "output_type": "stream",
     "text": [
      "<class 'pandas.core.frame.DataFrame'>\n",
      "RangeIndex: 3879821 entries, 0 to 3879820\n",
      "Data columns (total 15 columns):\n",
      " #   Column              Dtype         \n",
      "---  ------              -----         \n",
      " 0   ride_id             object        \n",
      " 1   started_at          datetime64[ns]\n",
      " 2   ended_at            datetime64[ns]\n",
      " 3   rideable_type       object        \n",
      " 4   start_station_id    int64         \n",
      " 5   start_station_name  object        \n",
      " 6   end_station_id      int64         \n",
      " 7   end_station_name    object        \n",
      " 8   member_casual       object        \n",
      " 9   date                object        \n",
      " 10  day                 int64         \n",
      " 11  month               int64         \n",
      " 12  year                int64         \n",
      " 13  day_of_week         object        \n",
      " 14  ride_length         int64         \n",
      "dtypes: datetime64[ns](2), int64(6), object(7)\n",
      "memory usage: 444.0+ MB\n"
     ]
    }
   ],
   "source": [
    "all_trips['ride_length'] = all_trips.ride_length.astype('int64')\n",
    "all_trips.info()"
   ]
  },
  {
   "cell_type": "markdown",
   "id": "b18e546e",
   "metadata": {},
   "source": [
    "**Remove “bad” data**\n",
    "The dataframe includes a few hundred entries when bikes were taken out of docks and checked for quality by Divvy or ride_length was negative\n",
    "\n",
    "We will create a new version of the dataframe (v2) since data is being removed"
   ]
  },
  {
   "cell_type": "code",
   "execution_count": 45,
   "id": "8efc7491",
   "metadata": {},
   "outputs": [],
   "source": [
    "all_trips_v2 = all_trips.loc[~((all_trips.start_station_name == \"HQ QR\") | (all_trips.ride_length < 0)),]"
   ]
  },
  {
   "cell_type": "markdown",
   "id": "20625fc6",
   "metadata": {},
   "source": [
    "**STEP 4: CONDUCT DESCRIPTIVE ANALYSIS**\n",
    "\n",
    "Descriptive analysis on ride_length (all figures in seconds)"
   ]
  },
  {
   "cell_type": "code",
   "execution_count": 46,
   "id": "1060c03f",
   "metadata": {},
   "outputs": [
    {
     "data": {
      "text/plain": [
       "1479.1390279052703"
      ]
     },
     "execution_count": 46,
     "metadata": {},
     "output_type": "execute_result"
    }
   ],
   "source": [
    "all_trips_v2.ride_length.mean()"
   ]
  },
  {
   "cell_type": "code",
   "execution_count": 47,
   "id": "61fa7a0a",
   "metadata": {},
   "outputs": [
    {
     "data": {
      "text/plain": [
       "712.0"
      ]
     },
     "execution_count": 47,
     "metadata": {},
     "output_type": "execute_result"
    }
   ],
   "source": [
    "all_trips_v2.ride_length.median()"
   ]
  },
  {
   "cell_type": "code",
   "execution_count": 48,
   "id": "3c645546",
   "metadata": {},
   "outputs": [
    {
     "data": {
      "text/plain": [
       "9387024"
      ]
     },
     "execution_count": 48,
     "metadata": {},
     "output_type": "execute_result"
    }
   ],
   "source": [
    "all_trips_v2.ride_length.max()"
   ]
  },
  {
   "cell_type": "code",
   "execution_count": 49,
   "id": "1d958c6d",
   "metadata": {},
   "outputs": [
    {
     "data": {
      "text/plain": [
       "1"
      ]
     },
     "execution_count": 49,
     "metadata": {},
     "output_type": "execute_result"
    }
   ],
   "source": [
    "all_trips_v2.ride_length.min()"
   ]
  },
  {
   "cell_type": "markdown",
   "id": "72d5bb95",
   "metadata": {},
   "source": [
    "You can condense the four lines above to one line using describe() on the specific attribute"
   ]
  },
  {
   "cell_type": "code",
   "execution_count": 50,
   "id": "c341cccc",
   "metadata": {},
   "outputs": [
    {
     "data": {
      "text/plain": [
       "count    3.876042e+06\n",
       "mean     1.479139e+03\n",
       "std      3.092397e+04\n",
       "min      1.000000e+00\n",
       "25%      4.120000e+02\n",
       "50%      7.120000e+02\n",
       "75%      1.289000e+03\n",
       "max      9.387024e+06\n",
       "Name: ride_length, dtype: float64"
      ]
     },
     "execution_count": 50,
     "metadata": {},
     "output_type": "execute_result"
    }
   ],
   "source": [
    "all_trips_v2.ride_length.describe()"
   ]
  },
  {
   "cell_type": "markdown",
   "id": "70e08b68",
   "metadata": {},
   "source": [
    "Compare members and casual users"
   ]
  },
  {
   "cell_type": "code",
   "execution_count": 51,
   "id": "17a21838",
   "metadata": {},
   "outputs": [
    {
     "data": {
      "text/plain": [
       "member_casual\n",
       "casual    3552.750173\n",
       "member     850.066156\n",
       "Name: ride_length, dtype: float64"
      ]
     },
     "execution_count": 51,
     "metadata": {},
     "output_type": "execute_result"
    }
   ],
   "source": [
    "all_trips_v2.groupby('member_casual')['ride_length'].mean()"
   ]
  },
  {
   "cell_type": "code",
   "execution_count": 52,
   "id": "c4beb064",
   "metadata": {},
   "outputs": [
    {
     "data": {
      "text/plain": [
       "member_casual\n",
       "casual    1546.0\n",
       "member     589.0\n",
       "Name: ride_length, dtype: float64"
      ]
     },
     "execution_count": 52,
     "metadata": {},
     "output_type": "execute_result"
    }
   ],
   "source": [
    "all_trips_v2.groupby('member_casual')['ride_length'].median()"
   ]
  },
  {
   "cell_type": "code",
   "execution_count": 53,
   "id": "a3b4314a",
   "metadata": {},
   "outputs": [
    {
     "data": {
      "text/plain": [
       "member_casual\n",
       "casual    9387024\n",
       "member    9056634\n",
       "Name: ride_length, dtype: int64"
      ]
     },
     "execution_count": 53,
     "metadata": {},
     "output_type": "execute_result"
    }
   ],
   "source": [
    "all_trips_v2.groupby('member_casual')['ride_length'].max()"
   ]
  },
  {
   "cell_type": "code",
   "execution_count": 54,
   "id": "8f512279",
   "metadata": {},
   "outputs": [
    {
     "data": {
      "text/plain": [
       "member_casual\n",
       "casual    2\n",
       "member    1\n",
       "Name: ride_length, dtype: int64"
      ]
     },
     "execution_count": 54,
     "metadata": {},
     "output_type": "execute_result"
    }
   ],
   "source": [
    "all_trips_v2.groupby('member_casual')['ride_length'].min()"
   ]
  },
  {
   "cell_type": "code",
   "execution_count": 55,
   "id": "6730d648",
   "metadata": {},
   "outputs": [
    {
     "data": {
      "text/plain": [
       "member_casual  day_of_week\n",
       "casual         Friday         3773.835112\n",
       "               Monday         3372.286923\n",
       "               Saturday       3331.913841\n",
       "               Sunday         3581.405388\n",
       "               Thursday       3682.984671\n",
       "               Tuesday        3596.359949\n",
       "               Wednesday      3718.661897\n",
       "member         Friday          824.530506\n",
       "               Monday          842.572569\n",
       "               Saturday        968.933723\n",
       "               Sunday          919.974616\n",
       "               Thursday        823.927803\n",
       "               Tuesday         826.142747\n",
       "               Wednesday       823.999644\n",
       "Name: ride_length, dtype: float64"
      ]
     },
     "execution_count": 55,
     "metadata": {},
     "output_type": "execute_result"
    }
   ],
   "source": [
    "all_trips_v2.groupby(['member_casual', 'day_of_week'])['ride_length'].mean()"
   ]
  },
  {
   "cell_type": "markdown",
   "id": "1dd7b5cb",
   "metadata": {},
   "source": [
    "Notice that the days of the week are out of order. Let’s fix that."
   ]
  },
  {
   "cell_type": "code",
   "execution_count": 62,
   "id": "ce7ae12b",
   "metadata": {},
   "outputs": [],
   "source": [
    "cats = ['Sunday', 'Monday', 'Tuesday', 'Wednesday', 'Thursday', 'Friday', 'Saturday']"
   ]
  },
  {
   "cell_type": "code",
   "execution_count": 63,
   "id": "8aa18b20",
   "metadata": {},
   "outputs": [
    {
     "name": "stderr",
     "output_type": "stream",
     "text": [
      "C:\\Users\\AkshayT\\AppData\\Local\\Temp/ipykernel_4500/494556422.py:3: SettingWithCopyWarning: \n",
      "A value is trying to be set on a copy of a slice from a DataFrame.\n",
      "Try using .loc[row_indexer,col_indexer] = value instead\n",
      "\n",
      "See the caveats in the documentation: https://pandas.pydata.org/pandas-docs/stable/user_guide/indexing.html#returning-a-view-versus-a-copy\n",
      "  all_trips_v2['day_of_week'] = all_trips_v2['day_of_week'].astype(cat_type)\n"
     ]
    }
   ],
   "source": [
    "from pandas.api.types import CategoricalDtype\n",
    "cat_type = CategoricalDtype(categories=cats, ordered=True)\n",
    "all_trips_v2['day_of_week'] = all_trips_v2['day_of_week'].astype(cat_type)"
   ]
  },
  {
   "cell_type": "code",
   "execution_count": 64,
   "id": "de5fcf53",
   "metadata": {},
   "outputs": [
    {
     "data": {
      "text/plain": [
       "member_casual  day_of_week\n",
       "casual         Sunday         3581.405388\n",
       "               Monday         3372.286923\n",
       "               Tuesday        3596.359949\n",
       "               Wednesday      3718.661897\n",
       "               Thursday       3682.984671\n",
       "               Friday         3773.835112\n",
       "               Saturday       3331.913841\n",
       "member         Sunday          919.974616\n",
       "               Monday          842.572569\n",
       "               Tuesday         826.142747\n",
       "               Wednesday       823.999644\n",
       "               Thursday        823.927803\n",
       "               Friday          824.530506\n",
       "               Saturday        968.933723\n",
       "Name: ride_length, dtype: float64"
      ]
     },
     "execution_count": 64,
     "metadata": {},
     "output_type": "execute_result"
    }
   ],
   "source": [
    "all_trips_v2.groupby(['member_casual', 'day_of_week'])['ride_length'].mean()"
   ]
  },
  {
   "cell_type": "code",
   "execution_count": 65,
   "id": "b15e8672",
   "metadata": {},
   "outputs": [
    {
     "data": {
      "text/plain": [
       "day_of_week  member_casual\n",
       "Sunday       casual           3581.405388\n",
       "             member            919.974616\n",
       "Monday       casual           3372.286923\n",
       "             member            842.572569\n",
       "Tuesday      casual           3596.359949\n",
       "             member            826.142747\n",
       "Wednesday    casual           3718.661897\n",
       "             member            823.999644\n",
       "Thursday     casual           3682.984671\n",
       "             member            823.927803\n",
       "Friday       casual           3773.835112\n",
       "             member            824.530506\n",
       "Saturday     casual           3331.913841\n",
       "             member            968.933723\n",
       "Name: ride_length, dtype: float64"
      ]
     },
     "execution_count": 65,
     "metadata": {},
     "output_type": "execute_result"
    }
   ],
   "source": [
    "all_trips_v2.groupby(['day_of_week','member_casual'])['ride_length'].mean()"
   ]
  },
  {
   "cell_type": "markdown",
   "id": "53367b26",
   "metadata": {},
   "source": [
    "Analyze ridership data by type and weekday"
   ]
  },
  {
   "cell_type": "code",
   "execution_count": 69,
   "id": "975c107b",
   "metadata": {},
   "outputs": [
    {
     "data": {
      "text/html": [
       "<div>\n",
       "<style scoped>\n",
       "    .dataframe tbody tr th:only-of-type {\n",
       "        vertical-align: middle;\n",
       "    }\n",
       "\n",
       "    .dataframe tbody tr th {\n",
       "        vertical-align: top;\n",
       "    }\n",
       "\n",
       "    .dataframe thead th {\n",
       "        text-align: right;\n",
       "    }\n",
       "</style>\n",
       "<table border=\"1\" class=\"dataframe\">\n",
       "  <thead>\n",
       "    <tr style=\"text-align: right;\">\n",
       "      <th></th>\n",
       "      <th></th>\n",
       "      <th>count</th>\n",
       "      <th>mean</th>\n",
       "    </tr>\n",
       "    <tr>\n",
       "      <th>member_casual</th>\n",
       "      <th>day_of_week</th>\n",
       "      <th></th>\n",
       "      <th></th>\n",
       "    </tr>\n",
       "  </thead>\n",
       "  <tbody>\n",
       "    <tr>\n",
       "      <th rowspan=\"7\" valign=\"top\">casual</th>\n",
       "      <th>Sunday</th>\n",
       "      <td>181293</td>\n",
       "      <td>3581.405388</td>\n",
       "    </tr>\n",
       "    <tr>\n",
       "      <th>Monday</th>\n",
       "      <td>103296</td>\n",
       "      <td>3372.286923</td>\n",
       "    </tr>\n",
       "    <tr>\n",
       "      <th>Tuesday</th>\n",
       "      <td>90510</td>\n",
       "      <td>3596.359949</td>\n",
       "    </tr>\n",
       "    <tr>\n",
       "      <th>Wednesday</th>\n",
       "      <td>92457</td>\n",
       "      <td>3718.661897</td>\n",
       "    </tr>\n",
       "    <tr>\n",
       "      <th>Thursday</th>\n",
       "      <td>102679</td>\n",
       "      <td>3682.984671</td>\n",
       "    </tr>\n",
       "    <tr>\n",
       "      <th>Friday</th>\n",
       "      <td>122404</td>\n",
       "      <td>3773.835112</td>\n",
       "    </tr>\n",
       "    <tr>\n",
       "      <th>Saturday</th>\n",
       "      <td>209543</td>\n",
       "      <td>3331.913841</td>\n",
       "    </tr>\n",
       "    <tr>\n",
       "      <th rowspan=\"7\" valign=\"top\">member</th>\n",
       "      <th>Sunday</th>\n",
       "      <td>267965</td>\n",
       "      <td>919.974616</td>\n",
       "    </tr>\n",
       "    <tr>\n",
       "      <th>Monday</th>\n",
       "      <td>472196</td>\n",
       "      <td>842.572569</td>\n",
       "    </tr>\n",
       "    <tr>\n",
       "      <th>Tuesday</th>\n",
       "      <td>508445</td>\n",
       "      <td>826.142747</td>\n",
       "    </tr>\n",
       "    <tr>\n",
       "      <th>Wednesday</th>\n",
       "      <td>500329</td>\n",
       "      <td>823.999644</td>\n",
       "    </tr>\n",
       "    <tr>\n",
       "      <th>Thursday</th>\n",
       "      <td>484177</td>\n",
       "      <td>823.927803</td>\n",
       "    </tr>\n",
       "    <tr>\n",
       "      <th>Friday</th>\n",
       "      <td>452790</td>\n",
       "      <td>824.530506</td>\n",
       "    </tr>\n",
       "    <tr>\n",
       "      <th>Saturday</th>\n",
       "      <td>287958</td>\n",
       "      <td>968.933723</td>\n",
       "    </tr>\n",
       "  </tbody>\n",
       "</table>\n",
       "</div>"
      ],
      "text/plain": [
       "                            count         mean\n",
       "member_casual day_of_week                     \n",
       "casual        Sunday       181293  3581.405388\n",
       "              Monday       103296  3372.286923\n",
       "              Tuesday       90510  3596.359949\n",
       "              Wednesday     92457  3718.661897\n",
       "              Thursday     102679  3682.984671\n",
       "              Friday       122404  3773.835112\n",
       "              Saturday     209543  3331.913841\n",
       "member        Sunday       267965   919.974616\n",
       "              Monday       472196   842.572569\n",
       "              Tuesday      508445   826.142747\n",
       "              Wednesday    500329   823.999644\n",
       "              Thursday     484177   823.927803\n",
       "              Friday       452790   824.530506\n",
       "              Saturday     287958   968.933723"
      ]
     },
     "execution_count": 69,
     "metadata": {},
     "output_type": "execute_result"
    }
   ],
   "source": [
    "all_trips_v2.groupby(['member_casual', 'day_of_week'])['ride_length'].agg(['count', 'mean'])"
   ]
  },
  {
   "cell_type": "code",
   "execution_count": 82,
   "id": "fcae47ad",
   "metadata": {},
   "outputs": [
    {
     "data": {
      "text/html": [
       "<div>\n",
       "<style scoped>\n",
       "    .dataframe tbody tr th:only-of-type {\n",
       "        vertical-align: middle;\n",
       "    }\n",
       "\n",
       "    .dataframe tbody tr th {\n",
       "        vertical-align: top;\n",
       "    }\n",
       "\n",
       "    .dataframe thead th {\n",
       "        text-align: right;\n",
       "    }\n",
       "</style>\n",
       "<table border=\"1\" class=\"dataframe\">\n",
       "  <thead>\n",
       "    <tr style=\"text-align: right;\">\n",
       "      <th></th>\n",
       "      <th>member_casual</th>\n",
       "      <th>day_of_week</th>\n",
       "      <th>count</th>\n",
       "      <th>mean</th>\n",
       "    </tr>\n",
       "  </thead>\n",
       "  <tbody>\n",
       "    <tr>\n",
       "      <th>0</th>\n",
       "      <td>casual</td>\n",
       "      <td>Sunday</td>\n",
       "      <td>181293</td>\n",
       "      <td>3581.405388</td>\n",
       "    </tr>\n",
       "    <tr>\n",
       "      <th>1</th>\n",
       "      <td>casual</td>\n",
       "      <td>Monday</td>\n",
       "      <td>103296</td>\n",
       "      <td>3372.286923</td>\n",
       "    </tr>\n",
       "    <tr>\n",
       "      <th>2</th>\n",
       "      <td>casual</td>\n",
       "      <td>Tuesday</td>\n",
       "      <td>90510</td>\n",
       "      <td>3596.359949</td>\n",
       "    </tr>\n",
       "    <tr>\n",
       "      <th>3</th>\n",
       "      <td>casual</td>\n",
       "      <td>Wednesday</td>\n",
       "      <td>92457</td>\n",
       "      <td>3718.661897</td>\n",
       "    </tr>\n",
       "    <tr>\n",
       "      <th>4</th>\n",
       "      <td>casual</td>\n",
       "      <td>Thursday</td>\n",
       "      <td>102679</td>\n",
       "      <td>3682.984671</td>\n",
       "    </tr>\n",
       "  </tbody>\n",
       "</table>\n",
       "</div>"
      ],
      "text/plain": [
       "  member_casual day_of_week   count         mean\n",
       "0        casual      Sunday  181293  3581.405388\n",
       "1        casual      Monday  103296  3372.286923\n",
       "2        casual     Tuesday   90510  3596.359949\n",
       "3        casual   Wednesday   92457  3718.661897\n",
       "4        casual    Thursday  102679  3682.984671"
      ]
     },
     "execution_count": 82,
     "metadata": {},
     "output_type": "execute_result"
    }
   ],
   "source": [
    "trips_summary = all_trips_v2.groupby(['member_casual', 'day_of_week'])['ride_length'].agg(['count', 'mean']).reset_index()\n",
    "trips_summary.head()"
   ]
  },
  {
   "cell_type": "markdown",
   "id": "4d5fe570",
   "metadata": {},
   "source": [
    "**STEP 5: VISUALIZATION**"
   ]
  },
  {
   "cell_type": "markdown",
   "id": "9eb4c71e",
   "metadata": {},
   "source": [
    "Let’s visualize the number of rides by rider type on each day of week"
   ]
  },
  {
   "cell_type": "code",
   "execution_count": 118,
   "id": "cf6fb34b",
   "metadata": {},
   "outputs": [
    {
     "data": {
      "image/png": "[encoded data removed]",
      "text/plain": [
       "<Figure size 1008x576 with 1 Axes>"
      ]
     },
     "metadata": {
      "needs_background": "light"
     },
     "output_type": "display_data"
    }
   ],
   "source": [
    "plt.figure(figsize=(14,8))\n",
    "\n",
    "w=0.3      # defining width of the bar\n",
    "x = trips_summary.day_of_week.unique()      # defining x axis\n",
    "bar1 = np.arange(len(x))     # defining position of bar 1\n",
    "bar2 = [i + w for i in bar1]      # defining position of bar 2\n",
    "plt.bar(bar1, trips_summary.loc[(trips_summary.member_casual == 'casual'),]['count'], w, label='casual')\n",
    "plt.bar(bar2, trips_summary.loc[(trips_summary.member_casual == 'member'),]['count'],w, label='member')\n",
    "plt.xlabel('Weekday')\n",
    "plt.ylabel('Number Of Rides')\n",
    "plt.title('Number Of Rides By Weekday')\n",
    "plt.xticks(bar1+w/2,x)\n",
    "plt.legend()\n",
    "plt.savefig('Plot1.png',format='png')       # saving the plot\n",
    "plt.show()"
   ]
  },
  {
   "cell_type": "markdown",
   "id": "a034ced2",
   "metadata": {},
   "source": [
    "Let’s create a visualization for average duration"
   ]
  },
  {
   "cell_type": "code",
   "execution_count": 120,
   "id": "4f99d678",
   "metadata": {},
   "outputs": [
    {
     "data": {
      "image/png": "[encoded data removed]",
      "text/plain": [
       "<Figure size 1008x576 with 1 Axes>"
      ]
     },
     "metadata": {
      "needs_background": "light"
     },
     "output_type": "display_data"
    }
   ],
   "source": [
    "plt.figure(figsize=(14,8))\n",
    "\n",
    "w=0.3      # defining width of the bar\n",
    "x = trips_summary.day_of_week.unique()      # defining x axis\n",
    "bar1 = np.arange(len(x))     # defining position of bar 1\n",
    "bar2 = [i + w for i in bar1]      # defining position of bar 2\n",
    "plt.bar(bar1, trips_summary.loc[(trips_summary.member_casual == 'casual'),]['mean'], w, label='casual')\n",
    "plt.bar(bar2, trips_summary.loc[(trips_summary.member_casual == 'member'),]['mean'],w, label='member')\n",
    "plt.xlabel('Weekday')\n",
    "plt.ylabel('Average Duration')\n",
    "plt.title('Average Duration By Weekday')\n",
    "plt.xticks(bar1+w/2,x)\n",
    "plt.legend()\n",
    "plt.savefig('Plot2.png',format='png')       # saving the plot\n",
    "plt.show()"
   ]
  },
  {
   "cell_type": "markdown",
   "id": "20c5675e",
   "metadata": {},
   "source": [
    "**STEP 6: EXPORT SUMMARY FILE FOR FURTHER ANALYSIS**\n",
    "\n",
    "Create a csv file that we will visualize in Excel, Tableau, or my presentation software"
   ]
  },
  {
   "cell_type": "code",
   "execution_count": 123,
   "id": "485268e7",
   "metadata": {},
   "outputs": [],
   "source": [
    "trips_summary.to_csv(r'trips_summary.csv', index=False, header=True)"
   ]
  },
  {
   "cell_type": "markdown",
   "id": "1b6a1eb8",
   "metadata": {},
   "source": [
    "**Findings**\n",
    "\n",
    "**How do annual members and casual riders use Cyclistic bikes differently**\n",
    "\n",
    "a. Annual members contribute large number of rides during and at the end of the week. But number of rides drops significantly on Saturdays and Sundays. As we can see in plot 1.\n",
    "\n",
    "b. Annual members average ride length is very less as compare to casual riders as we can see in plot 2.\n",
    "\n",
    "c. On the other hands Casual members travel for larger duration than annual members.\n",
    "\n",
    "d. Number of rides of casual riders is significantly less than members.\n",
    "\n",
    "e. Most probably casual riders travel larger distance than members.\n",
    "\n",
    "f. Casual riders took large number of rides for long duration on Saturdays and Sundays which is unique as compare to members."
   ]
  },
  {
   "cell_type": "markdown",
   "id": "2e63bc7b",
   "metadata": {},
   "source": [
    "**Inference**\n",
    "\n",
    "**Why would casual riders buy Cyclistic annual memberships**\n",
    "\n",
    "a. Casual riders travel for larger duration than members.\n",
    "\n",
    "b. Casual riders took large number of rides for long duration on Saturdays and Sundays which is unique as compare to members.\n",
    "\n",
    "c. Cyclistic could provide tailored annual membership for such riders which will save their extra spending."
   ]
  },
  {
   "cell_type": "markdown",
   "id": "4724010d",
   "metadata": {},
   "source": [
    "**Recommendations**\n",
    "\n",
    "**How can Cyclistic use digital media to influence casual riders to become members**\n",
    "\n",
    "a. Casual rider rides for larger duration, that means they usually travel larger distance as compare to members, so Cyclistic could provide such casual riders a specific plan for such large distance rides like discounts on every incremental mile.\n",
    "\n",
    "b. Cyclistic could share these interesting findings with the casual riders and promote this specific membership plans by sending emails after completion of a ride.\n",
    "\n",
    "c. Cyclistic could promote these membership plans by putting ads on local radio, because we are assuming as casual riders are riding for large duration, they might be listening local radios for entertainment.\n",
    "\n",
    "d. Cyclistic could use social media sites like Facebook, Twitter, Spotify and Instagram to reach out to potential casual riders and promote the ads regarding the plans.\n",
    "\n",
    "e. Cyclistic could also conduct the feedback on its riding application about how does the riders feel about the new specific plans.\n",
    "\n",
    "f. Cyclistic could also provide weekend discounts to members so that casual riders could get attracted towards these plans as they took maximum number of rides on Saturdays and Sundays and also traveled for large duration."
   ]
  }
 ],
 "metadata": {
  "kernelspec": {
   "display_name": "Python 3 (ipykernel)",
   "language": "python",
   "name": "python3"
  },
  "language_info": {
   "codemirror_mode": {
    "name": "ipython",
    "version": 3
   },
   "file_extension": ".py",
   "mimetype": "text/x-python",
   "name": "python",
   "nbconvert_exporter": "python",
   "pygments_lexer": "ipython3",
   "version": "3.8.8"
  }
 },
 "nbformat": 4,
 "nbformat_minor": 5
}
